{
 "cells": [
  {
   "cell_type": "code",
   "execution_count": 1,
   "metadata": {},
   "outputs": [
    {
     "data": {
      "text/plain": [
       "'C:\\\\ProgramData\\\\Anaconda3\\\\python.exe'"
      ]
     },
     "execution_count": 1,
     "metadata": {},
     "output_type": "execute_result"
    }
   ],
   "source": [
    "import sys\n",
    "sys.executable\n",
    "# sys.path"
   ]
  },
  {
   "cell_type": "code",
   "execution_count": 4,
   "metadata": {
    "colab": {
     "base_uri": "https://localhost:8080/",
     "height": 131
    },
    "colab_type": "code",
    "id": "wclnWjoUuZA0",
    "outputId": "b2dde474-1c37-4661-af1b-512590e46304"
   },
   "outputs": [],
   "source": [
    "import numpy as np # linear algebra\n",
    "import pandas as pd # data processing, CSV file I/O (e.g. pd.read_csv)\n",
    "import matplotlib.pyplot as plt\n",
    "import seaborn as sns\n",
    "color = sns.color_palette()\n",
    "# !pip install pymysql\n",
    "import pymysql\n",
    "from scipy import stats"
   ]
  },
  {
   "cell_type": "code",
   "execution_count": 5,
   "metadata": {
    "colab": {},
    "colab_type": "code",
    "id": "pM7zU3To_kyH"
   },
   "outputs": [],
   "source": [
    "import os\n",
    "# !pip install pymysql\n",
    "# import pymysql\n",
    "import pandas as pd\n",
    "\n",
    "conn = pymysql.connect(\n",
    "    host=\"insight.cxqzkfwl6f4a.us-east-1.rds.amazonaws.com\",\n",
    "    port=int(3306),\n",
    "    user=\"shoukydanindenic\",\n",
    "    passwd=\"54nuq5mi\",\n",
    "    db=\"insight\",\n",
    "    charset='utf8mb4')\n",
    "\n",
    "sql = \"\"\"\n",
    "SELECT \t\n",
    "\t120 + 1 - datediff(CURDATE(), a.Create_DateTime) as \"Days\",\n",
    "\ta.Instance_UID as \"Customer\",\n",
    "\tcount(*) as \"Count\"\n",
    "FROM alert a\n",
    "WHERE a.Create_DateTime >= DATE_SUB(CURDATE(), INTERVAL 119 DAY)\n",
    "\tAND a.Rule_Name is not NULL\n",
    "\tAND a.Instance_UID in ('293a66ba-6ee1-4451-81d4-50bb6e2137e1')\n",
    "GROUP BY 1,2 \n",
    "ORDER BY 2,1;\n",
    "\"\"\"\n",
    "\n",
    "df = pd.read_sql_query(sql, conn)\n"
   ]
  },
  {
   "cell_type": "code",
   "execution_count": 6,
   "metadata": {
    "colab": {
     "base_uri": "https://localhost:8080/",
     "height": 153
    },
    "colab_type": "code",
    "id": "WrGMWmgxwGIT",
    "outputId": "8479d6f8-2358-40ea-b529-b1dbba19c3e2"
   },
   "outputs": [
    {
     "name": "stdout",
     "output_type": "stream",
     "text": [
      "<class 'pandas.core.frame.DataFrame'>\n",
      "RangeIndex: 87 entries, 0 to 86\n",
      "Data columns (total 3 columns):\n",
      "Days        87 non-null int64\n",
      "Customer    87 non-null object\n",
      "Count       87 non-null int64\n",
      "dtypes: int64(2), object(1)\n",
      "memory usage: 2.1+ KB\n"
     ]
    }
   ],
   "source": [
    "# df\n",
    "# df.info()\n",
    "# df.tail(5)\n",
    "# df.sample(20)\n",
    "# df.info()\n",
    "df.describe()\n",
    "df.info()"
   ]
  },
  {
   "cell_type": "markdown",
   "metadata": {
    "colab_type": "text",
    "id": "wPP2dVFozd8I"
   },
   "source": [
    "# Bulding one DF from all entries filling the missing data with 0"
   ]
  },
  {
   "cell_type": "code",
   "execution_count": 7,
   "metadata": {
    "colab": {},
    "colab_type": "code",
    "id": "zOR-_2y6z21T"
   },
   "outputs": [],
   "source": [
    "# first we will build a complete Series/DatFrame wth 120 Entries\n",
    "reference_series=pd.Series(np.arange(2,122,1))\n",
    "reference_df=pd.DataFrame(reference_series,columns=['Days'])\n",
    "reference_df['dummy']=999\n",
    "reference_df=reference_df.set_index(\"Days\")\n",
    "# reference_df\n"
   ]
  },
  {
   "cell_type": "code",
   "execution_count": 8,
   "metadata": {
    "colab": {
     "base_uri": "https://localhost:8080/",
     "height": 34
    },
    "colab_type": "code",
    "id": "kOah1A--5Dgb",
    "outputId": "a3594673-1952-4d83-fac8-02879116180f"
   },
   "outputs": [
    {
     "data": {
      "text/plain": [
       "['293a66ba-6ee1-4451-81d4-50bb6e2137e1']"
      ]
     },
     "execution_count": 8,
     "metadata": {},
     "output_type": "execute_result"
    }
   ],
   "source": [
    "customer_list=df['Customer'].unique().tolist()\n",
    "customer_list"
   ]
  },
  {
   "cell_type": "code",
   "execution_count": 9,
   "metadata": {
    "colab": {
     "base_uri": "https://localhost:8080/",
     "height": 34
    },
    "colab_type": "code",
    "id": "MrIem7pEGwSd",
    "outputId": "42684223-576e-4a3b-ed8d-49b1f93bc44d"
   },
   "outputs": [
    {
     "data": {
      "text/plain": [
       "1"
      ]
     },
     "execution_count": 9,
     "metadata": {},
     "output_type": "execute_result"
    }
   ],
   "source": [
    "number_of_costomers=len(customer_list)\n",
    "number_of_costomers"
   ]
  },
  {
   "cell_type": "markdown",
   "metadata": {
    "colab_type": "text",
    "id": "Ew-vAxOow38S"
   },
   "source": [
    "# New Section \n",
    "\n",
    "---\n",
    "\n",
    "let's check what we can do "
   ]
  },
  {
   "cell_type": "code",
   "execution_count": 10,
   "metadata": {
    "colab": {},
    "colab_type": "code",
    "id": "O9xym1sb9-n-"
   },
   "outputs": [],
   "source": [
    "# aa=df[df['Customer']=='ff29622b-fe7e-41cd-8c3f-eed1204ba416']\n",
    "# aa=aa.set_index('Days')\n",
    "# aa.rename(columns={'Customer': 'todel', 'Count': 'customer'}, inplace=True)\n",
    "# aa.drop(['todel'],axis=1,inplace=True)\n",
    "# reference_df=reference_df.join(aa, how='outer')\n",
    "\n",
    "for cust in customer_list:\n",
    "  a=df[df['Customer']==cust]\n",
    "  a=a.set_index('Days')\n",
    "  a.rename(columns={'Customer': 'todel', 'Count': cust}, inplace=True)\n",
    "  a.drop(['todel'],axis=1,inplace=True)\n",
    "  reference_df=reference_df.join(a, how='outer')\n",
    "  \n"
   ]
  },
  {
   "cell_type": "code",
   "execution_count": 11,
   "metadata": {
    "colab": {},
    "colab_type": "code",
    "id": "zo7dA796xfDG"
   },
   "outputs": [],
   "source": [
    "reference_df.fillna(0,inplace=True)\n",
    "referance_df=reference_df.drop(['dummy'],axis=1,inplace=True)"
   ]
  },
  {
   "cell_type": "code",
   "execution_count": 12,
   "metadata": {
    "colab": {
     "base_uri": "https://localhost:8080/",
     "height": 2000
    },
    "colab_type": "code",
    "id": "2UA7buRqyGbG",
    "outputId": "0255c22d-00e7-4c5a-a2f3-f99593cd8cff"
   },
   "outputs": [
    {
     "data": {
      "text/html": [
       "<div>\n",
       "<style scoped>\n",
       "    .dataframe tbody tr th:only-of-type {\n",
       "        vertical-align: middle;\n",
       "    }\n",
       "\n",
       "    .dataframe tbody tr th {\n",
       "        vertical-align: top;\n",
       "    }\n",
       "\n",
       "    .dataframe thead th {\n",
       "        text-align: right;\n",
       "    }\n",
       "</style>\n",
       "<table border=\"1\" class=\"dataframe\">\n",
       "  <thead>\n",
       "    <tr style=\"text-align: right;\">\n",
       "      <th></th>\n",
       "      <th>293a66ba-6ee1-4451-81d4-50bb6e2137e1</th>\n",
       "    </tr>\n",
       "    <tr>\n",
       "      <th>Days</th>\n",
       "      <th></th>\n",
       "    </tr>\n",
       "  </thead>\n",
       "  <tbody>\n",
       "    <tr>\n",
       "      <th>2</th>\n",
       "      <td>11</td>\n",
       "    </tr>\n",
       "    <tr>\n",
       "      <th>3</th>\n",
       "      <td>0</td>\n",
       "    </tr>\n",
       "    <tr>\n",
       "      <th>4</th>\n",
       "      <td>17</td>\n",
       "    </tr>\n",
       "    <tr>\n",
       "      <th>5</th>\n",
       "      <td>4</td>\n",
       "    </tr>\n",
       "    <tr>\n",
       "      <th>6</th>\n",
       "      <td>1</td>\n",
       "    </tr>\n",
       "    <tr>\n",
       "      <th>7</th>\n",
       "      <td>5</td>\n",
       "    </tr>\n",
       "    <tr>\n",
       "      <th>8</th>\n",
       "      <td>12</td>\n",
       "    </tr>\n",
       "    <tr>\n",
       "      <th>9</th>\n",
       "      <td>4</td>\n",
       "    </tr>\n",
       "    <tr>\n",
       "      <th>10</th>\n",
       "      <td>3</td>\n",
       "    </tr>\n",
       "    <tr>\n",
       "      <th>11</th>\n",
       "      <td>3</td>\n",
       "    </tr>\n",
       "    <tr>\n",
       "      <th>12</th>\n",
       "      <td>0</td>\n",
       "    </tr>\n",
       "    <tr>\n",
       "      <th>13</th>\n",
       "      <td>17</td>\n",
       "    </tr>\n",
       "    <tr>\n",
       "      <th>14</th>\n",
       "      <td>29</td>\n",
       "    </tr>\n",
       "    <tr>\n",
       "      <th>15</th>\n",
       "      <td>31</td>\n",
       "    </tr>\n",
       "    <tr>\n",
       "      <th>16</th>\n",
       "      <td>37</td>\n",
       "    </tr>\n",
       "    <tr>\n",
       "      <th>17</th>\n",
       "      <td>39</td>\n",
       "    </tr>\n",
       "    <tr>\n",
       "      <th>18</th>\n",
       "      <td>13</td>\n",
       "    </tr>\n",
       "    <tr>\n",
       "      <th>19</th>\n",
       "      <td>0</td>\n",
       "    </tr>\n",
       "    <tr>\n",
       "      <th>20</th>\n",
       "      <td>5</td>\n",
       "    </tr>\n",
       "    <tr>\n",
       "      <th>21</th>\n",
       "      <td>1</td>\n",
       "    </tr>\n",
       "    <tr>\n",
       "      <th>22</th>\n",
       "      <td>2</td>\n",
       "    </tr>\n",
       "    <tr>\n",
       "      <th>23</th>\n",
       "      <td>0</td>\n",
       "    </tr>\n",
       "    <tr>\n",
       "      <th>24</th>\n",
       "      <td>0</td>\n",
       "    </tr>\n",
       "    <tr>\n",
       "      <th>25</th>\n",
       "      <td>0</td>\n",
       "    </tr>\n",
       "    <tr>\n",
       "      <th>26</th>\n",
       "      <td>0</td>\n",
       "    </tr>\n",
       "    <tr>\n",
       "      <th>27</th>\n",
       "      <td>0</td>\n",
       "    </tr>\n",
       "    <tr>\n",
       "      <th>28</th>\n",
       "      <td>1</td>\n",
       "    </tr>\n",
       "    <tr>\n",
       "      <th>29</th>\n",
       "      <td>0</td>\n",
       "    </tr>\n",
       "    <tr>\n",
       "      <th>30</th>\n",
       "      <td>30</td>\n",
       "    </tr>\n",
       "    <tr>\n",
       "      <th>31</th>\n",
       "      <td>8</td>\n",
       "    </tr>\n",
       "    <tr>\n",
       "      <th>...</th>\n",
       "      <td>...</td>\n",
       "    </tr>\n",
       "    <tr>\n",
       "      <th>92</th>\n",
       "      <td>7</td>\n",
       "    </tr>\n",
       "    <tr>\n",
       "      <th>93</th>\n",
       "      <td>0</td>\n",
       "    </tr>\n",
       "    <tr>\n",
       "      <th>94</th>\n",
       "      <td>1</td>\n",
       "    </tr>\n",
       "    <tr>\n",
       "      <th>95</th>\n",
       "      <td>1</td>\n",
       "    </tr>\n",
       "    <tr>\n",
       "      <th>96</th>\n",
       "      <td>2</td>\n",
       "    </tr>\n",
       "    <tr>\n",
       "      <th>97</th>\n",
       "      <td>0</td>\n",
       "    </tr>\n",
       "    <tr>\n",
       "      <th>98</th>\n",
       "      <td>0</td>\n",
       "    </tr>\n",
       "    <tr>\n",
       "      <th>99</th>\n",
       "      <td>0</td>\n",
       "    </tr>\n",
       "    <tr>\n",
       "      <th>100</th>\n",
       "      <td>8</td>\n",
       "    </tr>\n",
       "    <tr>\n",
       "      <th>101</th>\n",
       "      <td>2</td>\n",
       "    </tr>\n",
       "    <tr>\n",
       "      <th>102</th>\n",
       "      <td>1</td>\n",
       "    </tr>\n",
       "    <tr>\n",
       "      <th>103</th>\n",
       "      <td>0</td>\n",
       "    </tr>\n",
       "    <tr>\n",
       "      <th>104</th>\n",
       "      <td>2</td>\n",
       "    </tr>\n",
       "    <tr>\n",
       "      <th>105</th>\n",
       "      <td>1</td>\n",
       "    </tr>\n",
       "    <tr>\n",
       "      <th>106</th>\n",
       "      <td>6</td>\n",
       "    </tr>\n",
       "    <tr>\n",
       "      <th>107</th>\n",
       "      <td>3</td>\n",
       "    </tr>\n",
       "    <tr>\n",
       "      <th>108</th>\n",
       "      <td>0</td>\n",
       "    </tr>\n",
       "    <tr>\n",
       "      <th>109</th>\n",
       "      <td>11</td>\n",
       "    </tr>\n",
       "    <tr>\n",
       "      <th>110</th>\n",
       "      <td>1</td>\n",
       "    </tr>\n",
       "    <tr>\n",
       "      <th>111</th>\n",
       "      <td>0</td>\n",
       "    </tr>\n",
       "    <tr>\n",
       "      <th>112</th>\n",
       "      <td>1</td>\n",
       "    </tr>\n",
       "    <tr>\n",
       "      <th>113</th>\n",
       "      <td>4</td>\n",
       "    </tr>\n",
       "    <tr>\n",
       "      <th>114</th>\n",
       "      <td>0</td>\n",
       "    </tr>\n",
       "    <tr>\n",
       "      <th>115</th>\n",
       "      <td>1</td>\n",
       "    </tr>\n",
       "    <tr>\n",
       "      <th>116</th>\n",
       "      <td>2</td>\n",
       "    </tr>\n",
       "    <tr>\n",
       "      <th>117</th>\n",
       "      <td>0</td>\n",
       "    </tr>\n",
       "    <tr>\n",
       "      <th>118</th>\n",
       "      <td>3</td>\n",
       "    </tr>\n",
       "    <tr>\n",
       "      <th>119</th>\n",
       "      <td>3</td>\n",
       "    </tr>\n",
       "    <tr>\n",
       "      <th>120</th>\n",
       "      <td>1</td>\n",
       "    </tr>\n",
       "    <tr>\n",
       "      <th>121</th>\n",
       "      <td>0</td>\n",
       "    </tr>\n",
       "  </tbody>\n",
       "</table>\n",
       "<p>120 rows × 1 columns</p>\n",
       "</div>"
      ],
      "text/plain": [
       "      293a66ba-6ee1-4451-81d4-50bb6e2137e1\n",
       "Days                                      \n",
       "2                                       11\n",
       "3                                        0\n",
       "4                                       17\n",
       "5                                        4\n",
       "6                                        1\n",
       "7                                        5\n",
       "8                                       12\n",
       "9                                        4\n",
       "10                                       3\n",
       "11                                       3\n",
       "12                                       0\n",
       "13                                      17\n",
       "14                                      29\n",
       "15                                      31\n",
       "16                                      37\n",
       "17                                      39\n",
       "18                                      13\n",
       "19                                       0\n",
       "20                                       5\n",
       "21                                       1\n",
       "22                                       2\n",
       "23                                       0\n",
       "24                                       0\n",
       "25                                       0\n",
       "26                                       0\n",
       "27                                       0\n",
       "28                                       1\n",
       "29                                       0\n",
       "30                                      30\n",
       "31                                       8\n",
       "...                                    ...\n",
       "92                                       7\n",
       "93                                       0\n",
       "94                                       1\n",
       "95                                       1\n",
       "96                                       2\n",
       "97                                       0\n",
       "98                                       0\n",
       "99                                       0\n",
       "100                                      8\n",
       "101                                      2\n",
       "102                                      1\n",
       "103                                      0\n",
       "104                                      2\n",
       "105                                      1\n",
       "106                                      6\n",
       "107                                      3\n",
       "108                                      0\n",
       "109                                     11\n",
       "110                                      1\n",
       "111                                      0\n",
       "112                                      1\n",
       "113                                      4\n",
       "114                                      0\n",
       "115                                      1\n",
       "116                                      2\n",
       "117                                      0\n",
       "118                                      3\n",
       "119                                      3\n",
       "120                                      1\n",
       "121                                      0\n",
       "\n",
       "[120 rows x 1 columns]"
      ]
     },
     "execution_count": 12,
     "metadata": {},
     "output_type": "execute_result"
    }
   ],
   "source": [
    "reference_df=reference_df.astype('int64')\n",
    "reference_df"
   ]
  },
  {
   "cell_type": "code",
   "execution_count": 13,
   "metadata": {
    "colab": {
     "base_uri": "https://localhost:8080/",
     "height": 378
    },
    "colab_type": "code",
    "id": "3uLZp0wZO8xG",
    "outputId": "34bfbdcd-a7ca-4279-8f7e-0e964dbc30d3"
   },
   "outputs": [
    {
     "data": {
      "text/plain": [
       "<matplotlib.axes._subplots.AxesSubplot at 0x27f60d8cb38>"
      ]
     },
     "execution_count": 13,
     "metadata": {},
     "output_type": "execute_result"
    },
    {
     "data": {
      "image/png": "[encoded data removed]",
      "text/plain": [
       "<Figure size 432x288 with 1 Axes>"
      ]
     },
     "metadata": {
      "needs_background": "light"
     },
     "output_type": "display_data"
    }
   ],
   "source": [
    "\n",
    "reference_df.plot()"
   ]
  },
  {
   "cell_type": "code",
   "execution_count": 14,
   "metadata": {
    "colab": {
     "base_uri": "https://localhost:8080/",
     "height": 2000
    },
    "colab_type": "code",
    "id": "K6e1VCr9xlNs",
    "outputId": "2b540b37-6144-44ee-fc9e-9ce44b30c917"
   },
   "outputs": [
    {
     "data": {
      "text/html": [
       "<div>\n",
       "<style scoped>\n",
       "    .dataframe tbody tr th:only-of-type {\n",
       "        vertical-align: middle;\n",
       "    }\n",
       "\n",
       "    .dataframe tbody tr th {\n",
       "        vertical-align: top;\n",
       "    }\n",
       "\n",
       "    .dataframe thead th {\n",
       "        text-align: right;\n",
       "    }\n",
       "</style>\n",
       "<table border=\"1\" class=\"dataframe\">\n",
       "  <thead>\n",
       "    <tr style=\"text-align: right;\">\n",
       "      <th></th>\n",
       "      <th>293a66ba-6ee1-4451-81d4-50bb6e2137e1</th>\n",
       "    </tr>\n",
       "    <tr>\n",
       "      <th>Days</th>\n",
       "      <th></th>\n",
       "    </tr>\n",
       "  </thead>\n",
       "  <tbody>\n",
       "    <tr>\n",
       "      <th>2</th>\n",
       "      <td>11</td>\n",
       "    </tr>\n",
       "    <tr>\n",
       "      <th>3</th>\n",
       "      <td>0</td>\n",
       "    </tr>\n",
       "    <tr>\n",
       "      <th>4</th>\n",
       "      <td>17</td>\n",
       "    </tr>\n",
       "    <tr>\n",
       "      <th>5</th>\n",
       "      <td>4</td>\n",
       "    </tr>\n",
       "    <tr>\n",
       "      <th>6</th>\n",
       "      <td>1</td>\n",
       "    </tr>\n",
       "    <tr>\n",
       "      <th>7</th>\n",
       "      <td>5</td>\n",
       "    </tr>\n",
       "    <tr>\n",
       "      <th>8</th>\n",
       "      <td>12</td>\n",
       "    </tr>\n",
       "    <tr>\n",
       "      <th>9</th>\n",
       "      <td>4</td>\n",
       "    </tr>\n",
       "    <tr>\n",
       "      <th>10</th>\n",
       "      <td>3</td>\n",
       "    </tr>\n",
       "    <tr>\n",
       "      <th>11</th>\n",
       "      <td>3</td>\n",
       "    </tr>\n",
       "    <tr>\n",
       "      <th>12</th>\n",
       "      <td>0</td>\n",
       "    </tr>\n",
       "    <tr>\n",
       "      <th>13</th>\n",
       "      <td>17</td>\n",
       "    </tr>\n",
       "    <tr>\n",
       "      <th>14</th>\n",
       "      <td>29</td>\n",
       "    </tr>\n",
       "    <tr>\n",
       "      <th>15</th>\n",
       "      <td>31</td>\n",
       "    </tr>\n",
       "    <tr>\n",
       "      <th>16</th>\n",
       "      <td>37</td>\n",
       "    </tr>\n",
       "    <tr>\n",
       "      <th>17</th>\n",
       "      <td>39</td>\n",
       "    </tr>\n",
       "    <tr>\n",
       "      <th>18</th>\n",
       "      <td>13</td>\n",
       "    </tr>\n",
       "    <tr>\n",
       "      <th>19</th>\n",
       "      <td>0</td>\n",
       "    </tr>\n",
       "    <tr>\n",
       "      <th>20</th>\n",
       "      <td>5</td>\n",
       "    </tr>\n",
       "    <tr>\n",
       "      <th>21</th>\n",
       "      <td>1</td>\n",
       "    </tr>\n",
       "    <tr>\n",
       "      <th>22</th>\n",
       "      <td>2</td>\n",
       "    </tr>\n",
       "    <tr>\n",
       "      <th>23</th>\n",
       "      <td>0</td>\n",
       "    </tr>\n",
       "    <tr>\n",
       "      <th>24</th>\n",
       "      <td>0</td>\n",
       "    </tr>\n",
       "    <tr>\n",
       "      <th>25</th>\n",
       "      <td>0</td>\n",
       "    </tr>\n",
       "    <tr>\n",
       "      <th>26</th>\n",
       "      <td>0</td>\n",
       "    </tr>\n",
       "    <tr>\n",
       "      <th>27</th>\n",
       "      <td>0</td>\n",
       "    </tr>\n",
       "    <tr>\n",
       "      <th>28</th>\n",
       "      <td>1</td>\n",
       "    </tr>\n",
       "    <tr>\n",
       "      <th>29</th>\n",
       "      <td>0</td>\n",
       "    </tr>\n",
       "    <tr>\n",
       "      <th>30</th>\n",
       "      <td>30</td>\n",
       "    </tr>\n",
       "    <tr>\n",
       "      <th>31</th>\n",
       "      <td>8</td>\n",
       "    </tr>\n",
       "    <tr>\n",
       "      <th>...</th>\n",
       "      <td>...</td>\n",
       "    </tr>\n",
       "    <tr>\n",
       "      <th>92</th>\n",
       "      <td>7</td>\n",
       "    </tr>\n",
       "    <tr>\n",
       "      <th>93</th>\n",
       "      <td>0</td>\n",
       "    </tr>\n",
       "    <tr>\n",
       "      <th>94</th>\n",
       "      <td>1</td>\n",
       "    </tr>\n",
       "    <tr>\n",
       "      <th>95</th>\n",
       "      <td>1</td>\n",
       "    </tr>\n",
       "    <tr>\n",
       "      <th>96</th>\n",
       "      <td>2</td>\n",
       "    </tr>\n",
       "    <tr>\n",
       "      <th>97</th>\n",
       "      <td>0</td>\n",
       "    </tr>\n",
       "    <tr>\n",
       "      <th>98</th>\n",
       "      <td>0</td>\n",
       "    </tr>\n",
       "    <tr>\n",
       "      <th>99</th>\n",
       "      <td>0</td>\n",
       "    </tr>\n",
       "    <tr>\n",
       "      <th>100</th>\n",
       "      <td>8</td>\n",
       "    </tr>\n",
       "    <tr>\n",
       "      <th>101</th>\n",
       "      <td>2</td>\n",
       "    </tr>\n",
       "    <tr>\n",
       "      <th>102</th>\n",
       "      <td>1</td>\n",
       "    </tr>\n",
       "    <tr>\n",
       "      <th>103</th>\n",
       "      <td>0</td>\n",
       "    </tr>\n",
       "    <tr>\n",
       "      <th>104</th>\n",
       "      <td>2</td>\n",
       "    </tr>\n",
       "    <tr>\n",
       "      <th>105</th>\n",
       "      <td>1</td>\n",
       "    </tr>\n",
       "    <tr>\n",
       "      <th>106</th>\n",
       "      <td>6</td>\n",
       "    </tr>\n",
       "    <tr>\n",
       "      <th>107</th>\n",
       "      <td>3</td>\n",
       "    </tr>\n",
       "    <tr>\n",
       "      <th>108</th>\n",
       "      <td>0</td>\n",
       "    </tr>\n",
       "    <tr>\n",
       "      <th>109</th>\n",
       "      <td>11</td>\n",
       "    </tr>\n",
       "    <tr>\n",
       "      <th>110</th>\n",
       "      <td>1</td>\n",
       "    </tr>\n",
       "    <tr>\n",
       "      <th>111</th>\n",
       "      <td>0</td>\n",
       "    </tr>\n",
       "    <tr>\n",
       "      <th>112</th>\n",
       "      <td>1</td>\n",
       "    </tr>\n",
       "    <tr>\n",
       "      <th>113</th>\n",
       "      <td>4</td>\n",
       "    </tr>\n",
       "    <tr>\n",
       "      <th>114</th>\n",
       "      <td>0</td>\n",
       "    </tr>\n",
       "    <tr>\n",
       "      <th>115</th>\n",
       "      <td>1</td>\n",
       "    </tr>\n",
       "    <tr>\n",
       "      <th>116</th>\n",
       "      <td>2</td>\n",
       "    </tr>\n",
       "    <tr>\n",
       "      <th>117</th>\n",
       "      <td>0</td>\n",
       "    </tr>\n",
       "    <tr>\n",
       "      <th>118</th>\n",
       "      <td>3</td>\n",
       "    </tr>\n",
       "    <tr>\n",
       "      <th>119</th>\n",
       "      <td>3</td>\n",
       "    </tr>\n",
       "    <tr>\n",
       "      <th>120</th>\n",
       "      <td>1</td>\n",
       "    </tr>\n",
       "    <tr>\n",
       "      <th>121</th>\n",
       "      <td>0</td>\n",
       "    </tr>\n",
       "  </tbody>\n",
       "</table>\n",
       "<p>120 rows × 1 columns</p>\n",
       "</div>"
      ],
      "text/plain": [
       "      293a66ba-6ee1-4451-81d4-50bb6e2137e1\n",
       "Days                                      \n",
       "2                                       11\n",
       "3                                        0\n",
       "4                                       17\n",
       "5                                        4\n",
       "6                                        1\n",
       "7                                        5\n",
       "8                                       12\n",
       "9                                        4\n",
       "10                                       3\n",
       "11                                       3\n",
       "12                                       0\n",
       "13                                      17\n",
       "14                                      29\n",
       "15                                      31\n",
       "16                                      37\n",
       "17                                      39\n",
       "18                                      13\n",
       "19                                       0\n",
       "20                                       5\n",
       "21                                       1\n",
       "22                                       2\n",
       "23                                       0\n",
       "24                                       0\n",
       "25                                       0\n",
       "26                                       0\n",
       "27                                       0\n",
       "28                                       1\n",
       "29                                       0\n",
       "30                                      30\n",
       "31                                       8\n",
       "...                                    ...\n",
       "92                                       7\n",
       "93                                       0\n",
       "94                                       1\n",
       "95                                       1\n",
       "96                                       2\n",
       "97                                       0\n",
       "98                                       0\n",
       "99                                       0\n",
       "100                                      8\n",
       "101                                      2\n",
       "102                                      1\n",
       "103                                      0\n",
       "104                                      2\n",
       "105                                      1\n",
       "106                                      6\n",
       "107                                      3\n",
       "108                                      0\n",
       "109                                     11\n",
       "110                                      1\n",
       "111                                      0\n",
       "112                                      1\n",
       "113                                      4\n",
       "114                                      0\n",
       "115                                      1\n",
       "116                                      2\n",
       "117                                      0\n",
       "118                                      3\n",
       "119                                      3\n",
       "120                                      1\n",
       "121                                      0\n",
       "\n",
       "[120 rows x 1 columns]"
      ]
     },
     "execution_count": 14,
     "metadata": {},
     "output_type": "execute_result"
    }
   ],
   "source": [
    "df_sdoriginal=reference_df.copy()\n",
    "df_sd=reference_df.copy()\n",
    "df_sdoriginal"
   ]
  },
  {
   "cell_type": "code",
   "execution_count": null,
   "metadata": {
    "colab": {},
    "colab_type": "code",
    "id": "DOlz7PpN_YrW"
   },
   "outputs": [],
   "source": []
  },
  {
   "cell_type": "markdown",
   "metadata": {
    "colab_type": "text",
    "id": "JfgSQ5nl_m-2"
   },
   "source": [
    "# here we check running \"0\""
   ]
  },
  {
   "cell_type": "code",
   "execution_count": 15,
   "metadata": {
    "colab": {
     "base_uri": "https://localhost:8080/",
     "height": 51
    },
    "colab_type": "code",
    "id": "2X6yFicmS6B2",
    "outputId": "698eca41-988b-45a5-ab2c-54b6c316f9a2"
   },
   "outputs": [
    {
     "name": "stdout",
     "output_type": "stream",
     "text": [
      "col_list Index(['293a66ba-6ee1-4451-81d4-50bb6e2137e1'], dtype='object')\n"
     ]
    },
    {
     "data": {
      "text/plain": [
       "Index(['293a66ba-6ee1-4451-81d4-50bb6e2137e1'], dtype='object')"
      ]
     },
     "execution_count": 15,
     "metadata": {},
     "output_type": "execute_result"
    }
   ],
   "source": [
    "col_list=df_sdoriginal.columns\n",
    "\n",
    "print(\"col_list {}\".format(col_list))\n",
    "\n",
    "df_sd.head()\n",
    "\n",
    "for c in col_list:\n",
    "    a=df_sd[c]\n",
    "    b=[0]*len(a)\n",
    "    for i in range(len(a)):\n",
    "        if a.iloc[i] == 0:\n",
    "            b[i] = b[i-1] + 1\n",
    "        else:\n",
    "            b[i] = 0\n",
    "    #print ('this is the list of consecative 0 in the {} Column {}'.format(c,b) )\n",
    "    #b=pd.Series(b) \n",
    "    df_sd[c+\"-0s\"]= pd.Series(b, index=df_sd.index)\n",
    "    df_sd\n",
    "df_sd.head()\n",
    "col_list"
   ]
  },
  {
   "cell_type": "markdown",
   "metadata": {
    "colab_type": "text",
    "id": "GV74cRdYAJgU"
   },
   "source": [
    "# Now we check the AVG and STD for 4 consequetive numbers"
   ]
  },
  {
   "cell_type": "code",
   "execution_count": 16,
   "metadata": {
    "colab": {},
    "colab_type": "code",
    "id": "P9QbBN1eAIUg"
   },
   "outputs": [],
   "source": [
    "for c in col_list:\n",
    "    df_sd[c+'-avg_4'] = (df_sdoriginal[c].rolling(4).mean())\n",
    "    df_sd[c+'-std_4'] = (df_sdoriginal[c].rolling(4).std())"
   ]
  },
  {
   "cell_type": "code",
   "execution_count": 17,
   "metadata": {
    "colab": {
     "base_uri": "https://localhost:8080/",
     "height": 252
    },
    "colab_type": "code",
    "id": "m8DCFbgyCGUU",
    "outputId": "87821d83-0ef0-4dab-d943-566a3d5b5e4f"
   },
   "outputs": [
    {
     "data": {
      "text/html": [
       "<div>\n",
       "<style scoped>\n",
       "    .dataframe tbody tr th:only-of-type {\n",
       "        vertical-align: middle;\n",
       "    }\n",
       "\n",
       "    .dataframe tbody tr th {\n",
       "        vertical-align: top;\n",
       "    }\n",
       "\n",
       "    .dataframe thead th {\n",
       "        text-align: right;\n",
       "    }\n",
       "</style>\n",
       "<table border=\"1\" class=\"dataframe\">\n",
       "  <thead>\n",
       "    <tr style=\"text-align: right;\">\n",
       "      <th></th>\n",
       "      <th>293a66ba-6ee1-4451-81d4-50bb6e2137e1</th>\n",
       "      <th>293a66ba-6ee1-4451-81d4-50bb6e2137e1-0s</th>\n",
       "      <th>293a66ba-6ee1-4451-81d4-50bb6e2137e1-avg_4</th>\n",
       "      <th>293a66ba-6ee1-4451-81d4-50bb6e2137e1-std_4</th>\n",
       "    </tr>\n",
       "    <tr>\n",
       "      <th>Days</th>\n",
       "      <th></th>\n",
       "      <th></th>\n",
       "      <th></th>\n",
       "      <th></th>\n",
       "    </tr>\n",
       "  </thead>\n",
       "  <tbody>\n",
       "    <tr>\n",
       "      <th>2</th>\n",
       "      <td>11</td>\n",
       "      <td>0</td>\n",
       "      <td>NaN</td>\n",
       "      <td>NaN</td>\n",
       "    </tr>\n",
       "    <tr>\n",
       "      <th>3</th>\n",
       "      <td>0</td>\n",
       "      <td>1</td>\n",
       "      <td>NaN</td>\n",
       "      <td>NaN</td>\n",
       "    </tr>\n",
       "    <tr>\n",
       "      <th>4</th>\n",
       "      <td>17</td>\n",
       "      <td>0</td>\n",
       "      <td>NaN</td>\n",
       "      <td>NaN</td>\n",
       "    </tr>\n",
       "    <tr>\n",
       "      <th>5</th>\n",
       "      <td>4</td>\n",
       "      <td>0</td>\n",
       "      <td>8.0</td>\n",
       "      <td>7.527727</td>\n",
       "    </tr>\n",
       "    <tr>\n",
       "      <th>6</th>\n",
       "      <td>1</td>\n",
       "      <td>0</td>\n",
       "      <td>5.5</td>\n",
       "      <td>7.852813</td>\n",
       "    </tr>\n",
       "  </tbody>\n",
       "</table>\n",
       "</div>"
      ],
      "text/plain": [
       "      293a66ba-6ee1-4451-81d4-50bb6e2137e1  \\\n",
       "Days                                         \n",
       "2                                       11   \n",
       "3                                        0   \n",
       "4                                       17   \n",
       "5                                        4   \n",
       "6                                        1   \n",
       "\n",
       "      293a66ba-6ee1-4451-81d4-50bb6e2137e1-0s  \\\n",
       "Days                                            \n",
       "2                                           0   \n",
       "3                                           1   \n",
       "4                                           0   \n",
       "5                                           0   \n",
       "6                                           0   \n",
       "\n",
       "      293a66ba-6ee1-4451-81d4-50bb6e2137e1-avg_4  \\\n",
       "Days                                               \n",
       "2                                            NaN   \n",
       "3                                            NaN   \n",
       "4                                            NaN   \n",
       "5                                            8.0   \n",
       "6                                            5.5   \n",
       "\n",
       "      293a66ba-6ee1-4451-81d4-50bb6e2137e1-std_4  \n",
       "Days                                              \n",
       "2                                            NaN  \n",
       "3                                            NaN  \n",
       "4                                            NaN  \n",
       "5                                       7.527727  \n",
       "6                                       7.852813  "
      ]
     },
     "execution_count": 17,
     "metadata": {},
     "output_type": "execute_result"
    }
   ],
   "source": [
    "df_sd.head()"
   ]
  },
  {
   "cell_type": "code",
   "execution_count": 18,
   "metadata": {
    "colab": {
     "base_uri": "https://localhost:8080/",
     "height": 34
    },
    "colab_type": "code",
    "id": "ppS-BZnHCj4T",
    "outputId": "3dc065aa-058e-4387-a444-e2a831b8a162"
   },
   "outputs": [
    {
     "data": {
      "text/plain": [
       "Index(['293a66ba-6ee1-4451-81d4-50bb6e2137e1'], dtype='object')"
      ]
     },
     "execution_count": 18,
     "metadata": {},
     "output_type": "execute_result"
    }
   ],
   "source": [
    " col_list"
   ]
  },
  {
   "cell_type": "code",
   "execution_count": 19,
   "metadata": {
    "colab": {
     "base_uri": "https://localhost:8080/",
     "height": 395
    },
    "colab_type": "code",
    "id": "OS7m8YR3DSDS",
    "outputId": "4341679d-0b02-4029-e9a5-715049133485"
   },
   "outputs": [
    {
     "name": "stdout",
     "output_type": "stream",
     "text": [
      "Max 0s {} 5\n"
     ]
    },
    {
     "data": {
      "text/plain": [
       "<matplotlib.axes._subplots.AxesSubplot at 0x27f61080dd8>"
      ]
     },
     "execution_count": 19,
     "metadata": {},
     "output_type": "execute_result"
    },
    {
     "data": {
      "image/png": "[encoded data removed]",
      "text/plain": [
       "<Figure size 432x288 with 1 Axes>"
      ]
     },
     "metadata": {
      "needs_background": "light"
     },
     "output_type": "display_data"
    }
   ],
   "source": [
    "print(\"Max 0s {}\",df_sd[c+\"-0s\"].max())\n",
    "\n",
    "df_sd.plot()"
   ]
  },
  {
   "cell_type": "code",
   "execution_count": 20,
   "metadata": {
    "colab": {},
    "colab_type": "code",
    "id": "qqgLajnnCz4X"
   },
   "outputs": [],
   "source": [
    "# df_sd.info()\n",
    "for c in col_list:\n",
    "    df_sd[c+'res'] = (df_sd[c+\"-0s\"]>2) | (df_sd[c]<(df_sd[c+'-avg_4']-df_sd[c+'-std_4']))\n"
   ]
  },
  {
   "cell_type": "code",
   "execution_count": 21,
   "metadata": {
    "colab": {
     "base_uri": "https://localhost:8080/",
     "height": 595
    },
    "colab_type": "code",
    "id": "r6iSFTOmC1AS",
    "outputId": "53ecb414-ab2a-483f-856f-827336a50654"
   },
   "outputs": [
    {
     "name": "stdout",
     "output_type": "stream",
     "text": [
      "for the  293a66ba-6ee1-4451-81d4-50bb6e2137e1 check the following Days\n",
      "12     True\n",
      "18     True\n",
      "19     True\n",
      "25     True\n",
      "26     True\n",
      "27     True\n",
      "53     True\n",
      "57     True\n",
      "75     True\n",
      "87     True\n",
      "97     True\n",
      "99     True\n",
      "121    True\n",
      "Name: 293a66ba-6ee1-4451-81d4-50bb6e2137e1res, dtype: bool\n"
     ]
    }
   ],
   "source": [
    "for c in col_list:\n",
    "    print (\"for the \", c , \"check the following\",df_sd[c+'res'][df_sd[c+'res']==True])"
   ]
  },
  {
   "cell_type": "code",
   "execution_count": 22,
   "metadata": {
    "colab": {
     "base_uri": "https://localhost:8080/",
     "height": 595
    },
    "colab_type": "code",
    "id": "QFlVf0-iDBjC",
    "outputId": "5108bcb9-c204-4ec1-d58b-bb34b96c929f"
   },
   "outputs": [
    {
     "name": "stdout",
     "output_type": "stream",
     "text": [
      "Days\n",
      "12     True\n",
      "18     True\n",
      "19     True\n",
      "25     True\n",
      "26     True\n",
      "27     True\n",
      "53     True\n",
      "57     True\n",
      "75     True\n",
      "87     True\n",
      "97     True\n",
      "99     True\n",
      "121    True\n",
      "Name: 293a66ba-6ee1-4451-81d4-50bb6e2137e1res, dtype: bool\n"
     ]
    }
   ],
   "source": [
    "for c in col_list:\n",
    "    print(df_sd[c+'res'][df_sd[c+'res']==True])"
   ]
  },
  {
   "cell_type": "code",
   "execution_count": 23,
   "metadata": {
    "colab": {
     "base_uri": "https://localhost:8080/",
     "height": 34
    },
    "colab_type": "code",
    "id": "WdiO4qt_Erhw",
    "outputId": "544b39db-df9d-41c1-d267-e9d43eaa2407"
   },
   "outputs": [
    {
     "data": {
      "text/plain": [
       "['293a66ba-6ee1-4451-81d4-50bb6e2137e1res']"
      ]
     },
     "execution_count": 23,
     "metadata": {},
     "output_type": "execute_result"
    }
   ],
   "source": [
    "col_list=df_sd.columns\n",
    "col_res=[c for c in col_list]\n",
    "\n",
    "col_res[-number_of_costomers:]"
   ]
  },
  {
   "cell_type": "code",
   "execution_count": 24,
   "metadata": {
    "colab": {},
    "colab_type": "code",
    "id": "oDWh_-4tHNqL"
   },
   "outputs": [],
   "source": [
    "%matplotlib inline\n",
    "final=df_sd[col_res[-number_of_costomers:]]\n"
   ]
  },
  {
   "cell_type": "code",
   "execution_count": 25,
   "metadata": {
    "colab": {},
    "colab_type": "code",
    "id": "3_XshLexMqlN"
   },
   "outputs": [],
   "source": [
    "# sns.set()\n",
    "\n",
    "# fig, axes = plt.subplots(nrows=number_of_costomers,figsize=(30, 200))\n",
    "\n",
    "# for j,i in enumerate(final.columns):\n",
    "#   (final[i]*1).plot.bar(ax=axes[j],color='b',title= i,yticks=(0,1) );\n",
    "#   axes[j].title.set_size(20);\n",
    "  \n",
    "\n"
   ]
  },
  {
   "cell_type": "markdown",
   "metadata": {
    "colab_type": "text",
    "id": "ZlBbYeCoYyrY"
   },
   "source": [
    "# The drawing takes some time so be patient  👌🎈 "
   ]
  },
  {
   "cell_type": "code",
   "execution_count": null,
   "metadata": {
    "colab": {},
    "colab_type": "code",
    "id": "wcBHbLGGggdE"
   },
   "outputs": [],
   "source": []
  },
  {
   "cell_type": "code",
   "execution_count": 26,
   "metadata": {
    "colab": {
     "base_uri": "https://localhost:8080/",
     "height": 1696
    },
    "colab_type": "code",
    "id": "TLqTtSplhOKr",
    "outputId": "15fedc20-fcf9-4530-a47a-794e709f4ceb"
   },
   "outputs": [
    {
     "data": {
      "text/plain": [
       "<matplotlib.axes._subplots.AxesSubplot at 0x27f611d5710>"
      ]
     },
     "execution_count": 26,
     "metadata": {},
     "output_type": "execute_result"
    },
    {
     "data": {
      "image/png": "[encoded data removed]",
      "text/plain": [
       "<Figure size 2160x2160 with 1 Axes>"
      ]
     },
     "metadata": {
      "needs_background": "light"
     },
     "output_type": "display_data"
    }
   ],
   "source": [
    "fig, ax = plt.subplots(figsize=(30, 30))\n",
    "sns.heatmap(ax=ax, data=final[2:118], linecolor='lightgrey', linewidths=.01,cbar=False,annot=True,square =True) \n",
    "\n",
    "    "
   ]
  },
  {
   "cell_type": "code",
   "execution_count": 27,
   "metadata": {
    "colab": {
     "base_uri": "https://localhost:8080/",
     "height": 282
    },
    "colab_type": "code",
    "id": "cz1PXCP9GVEc",
    "outputId": "b5c4d778-4617-4131-dc8a-87228f1eb3e1"
   },
   "outputs": [
    {
     "data": {
      "text/plain": [
       "<matplotlib.axes._subplots.AxesSubplot at 0x27f612fa470>"
      ]
     },
     "execution_count": 27,
     "metadata": {},
     "output_type": "execute_result"
    },
    {
     "data": {
      "image/png": "[encoded data removed]",
      "text/plain": [
       "<Figure size 2160x2160 with 1 Axes>"
      ]
     },
     "metadata": {
      "needs_background": "light"
     },
     "output_type": "display_data"
    }
   ],
   "source": [
    "#final.loc[2:100]\n",
    "fig, ax = plt.subplots(figsize=(30, 30))\n",
    "sns.heatmap(ax=ax, data=final[2:120].T, linecolor='lightgrey', linewidths=.01,cbar=False,annot=True,square =True) "
   ]
  },
  {
   "cell_type": "code",
   "execution_count": null,
   "metadata": {},
   "outputs": [],
   "source": []
  },
  {
   "cell_type": "code",
   "execution_count": null,
   "metadata": {},
   "outputs": [],
   "source": []
  }
 ],
 "metadata": {
  "colab": {
   "collapsed_sections": [],
   "name": "mysql-one-customer.ipynb",
   "provenance": [],
   "version": "0.3.2"
  },
  "kernelspec": {
   "display_name": "Python 3",
   "language": "python",
   "name": "python3"
  },
  "language_info": {
   "codemirror_mode": {
    "name": "ipython",
    "version": 3
   },
   "file_extension": ".py",
   "mimetype": "text/x-python",
   "name": "python",
   "nbconvert_exporter": "python",
   "pygments_lexer": "ipython3",
   "version": "3.7.3"
  }
 },
 "nbformat": 4,
 "nbformat_minor": 4
}
