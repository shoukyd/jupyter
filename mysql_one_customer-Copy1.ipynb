{
 "cells": [
  {
   "cell_type": "code",
   "execution_count": 1,
   "metadata": {},
   "outputs": [
    {
     "data": {
      "text/plain": [
       "'/Users/sd/miniconda3/bin/python'"
      ]
     },
     "execution_count": 1,
     "metadata": {},
     "output_type": "execute_result"
    }
   ],
   "source": [
    "import sys\n",
    "sys.executable\n",
    "# sys.path"
   ]
  },
  {
   "cell_type": "code",
   "execution_count": 2,
   "metadata": {
    "colab": {
     "base_uri": "https://localhost:8080/",
     "height": 131
    },
    "colab_type": "code",
    "id": "wclnWjoUuZA0",
    "outputId": "b2dde474-1c37-4661-af1b-512590e46304"
   },
   "outputs": [],
   "source": [
    "import numpy as np # linear algebra\n",
    "import pandas as pd # data processing, CSV file I/O (e.g. pd.read_csv)\n",
    "import matplotlib.pyplot as plt\n",
    "import seaborn as sns\n",
    "color = sns.color_palette()\n",
    "# !pip install pymysql\n",
    "import pymysql\n",
    "from scipy import stats"
   ]
  },
  {
   "cell_type": "code",
   "execution_count": 3,
   "metadata": {
    "colab": {},
    "colab_type": "code",
    "id": "pM7zU3To_kyH"
   },
   "outputs": [],
   "source": [
    "import os\n",
    "# !pip install pymysql\n",
    "# import pymysql\n",
    "import pandas as pd\n",
    "\n",
    "conn = pymysql.connect(\n",
    "    host=\"insight.cxqzkfwl6f4a.us-east-1.rds.amazonaws.com\",\n",
    "    port=int(3306),\n",
    "    user=\"shoukydanindenic\",\n",
    "    passwd=\"54nuq5mi\",\n",
    "    db=\"insight\",\n",
    "    charset='utf8mb4')\n",
    "\n",
    "sql = \"\"\"\n",
    "SELECT \t\n",
    "\tDate_Format(a.Create_DateTime,'%Y-%m-%d') as \"Date\",\n",
    "\ta.Instance_UID as \"Customer\",\n",
    "\tcount(*) as \"Count\"\n",
    "FROM alert a\n",
    "WHERE a.Create_DateTime >= DATE_SUB(CURDATE(), INTERVAL 119 DAY)\n",
    "\tAND a.Rule_Name is not NULL\n",
    "\tAND a.Instance_UID in ('293a66ba-6ee1-4451-81d4-50bb6e2137e1')\n",
    "GROUP BY 1,2 \n",
    "ORDER BY 2,1;\n",
    "\"\"\"\n",
    "\n",
    "df = pd.read_sql_query(sql, conn)\n"
   ]
  },
  {
   "cell_type": "code",
   "execution_count": 4,
   "metadata": {
    "colab": {
     "base_uri": "https://localhost:8080/",
     "height": 153
    },
    "colab_type": "code",
    "id": "WrGMWmgxwGIT",
    "outputId": "8479d6f8-2358-40ea-b529-b1dbba19c3e2",
    "scrolled": true
   },
   "outputs": [
    {
     "name": "stdout",
     "output_type": "stream",
     "text": [
      "<class 'pandas.core.frame.DataFrame'>\n",
      "RangeIndex: 88 entries, 0 to 87\n",
      "Data columns (total 3 columns):\n",
      "Date        88 non-null object\n",
      "Customer    88 non-null object\n",
      "Count       88 non-null int64\n",
      "dtypes: int64(1), object(2)\n",
      "memory usage: 2.1+ KB\n"
     ]
    }
   ],
   "source": [
    "# df\n",
    "# df.info()\n",
    "# df.tail(5)\n",
    "# df.sample(20)\n",
    "# df.info()\n",
    "df.describe()\n",
    "df.info()"
   ]
  },
  {
   "cell_type": "code",
   "execution_count": 5,
   "metadata": {},
   "outputs": [
    {
     "data": {
      "text/html": [
       "<div>\n",
       "<style scoped>\n",
       "    .dataframe tbody tr th:only-of-type {\n",
       "        vertical-align: middle;\n",
       "    }\n",
       "\n",
       "    .dataframe tbody tr th {\n",
       "        vertical-align: top;\n",
       "    }\n",
       "\n",
       "    .dataframe thead th {\n",
       "        text-align: right;\n",
       "    }\n",
       "</style>\n",
       "<table border=\"1\" class=\"dataframe\">\n",
       "  <thead>\n",
       "    <tr style=\"text-align: right;\">\n",
       "      <th></th>\n",
       "      <th>Date</th>\n",
       "      <th>Customer</th>\n",
       "      <th>Count</th>\n",
       "    </tr>\n",
       "  </thead>\n",
       "  <tbody>\n",
       "    <tr>\n",
       "      <th>68</th>\n",
       "      <td>2019-09-07</td>\n",
       "      <td>293a66ba-6ee1-4451-81d4-50bb6e2137e1</td>\n",
       "      <td>2</td>\n",
       "    </tr>\n",
       "    <tr>\n",
       "      <th>69</th>\n",
       "      <td>2019-09-08</td>\n",
       "      <td>293a66ba-6ee1-4451-81d4-50bb6e2137e1</td>\n",
       "      <td>1</td>\n",
       "    </tr>\n",
       "    <tr>\n",
       "      <th>70</th>\n",
       "      <td>2019-09-09</td>\n",
       "      <td>293a66ba-6ee1-4451-81d4-50bb6e2137e1</td>\n",
       "      <td>6</td>\n",
       "    </tr>\n",
       "    <tr>\n",
       "      <th>71</th>\n",
       "      <td>2019-09-10</td>\n",
       "      <td>293a66ba-6ee1-4451-81d4-50bb6e2137e1</td>\n",
       "      <td>3</td>\n",
       "    </tr>\n",
       "    <tr>\n",
       "      <th>72</th>\n",
       "      <td>2019-09-12</td>\n",
       "      <td>293a66ba-6ee1-4451-81d4-50bb6e2137e1</td>\n",
       "      <td>11</td>\n",
       "    </tr>\n",
       "    <tr>\n",
       "      <th>73</th>\n",
       "      <td>2019-09-13</td>\n",
       "      <td>293a66ba-6ee1-4451-81d4-50bb6e2137e1</td>\n",
       "      <td>1</td>\n",
       "    </tr>\n",
       "    <tr>\n",
       "      <th>74</th>\n",
       "      <td>2019-09-15</td>\n",
       "      <td>293a66ba-6ee1-4451-81d4-50bb6e2137e1</td>\n",
       "      <td>1</td>\n",
       "    </tr>\n",
       "    <tr>\n",
       "      <th>75</th>\n",
       "      <td>2019-09-16</td>\n",
       "      <td>293a66ba-6ee1-4451-81d4-50bb6e2137e1</td>\n",
       "      <td>4</td>\n",
       "    </tr>\n",
       "    <tr>\n",
       "      <th>76</th>\n",
       "      <td>2019-09-18</td>\n",
       "      <td>293a66ba-6ee1-4451-81d4-50bb6e2137e1</td>\n",
       "      <td>1</td>\n",
       "    </tr>\n",
       "    <tr>\n",
       "      <th>77</th>\n",
       "      <td>2019-09-19</td>\n",
       "      <td>293a66ba-6ee1-4451-81d4-50bb6e2137e1</td>\n",
       "      <td>2</td>\n",
       "    </tr>\n",
       "    <tr>\n",
       "      <th>78</th>\n",
       "      <td>2019-09-21</td>\n",
       "      <td>293a66ba-6ee1-4451-81d4-50bb6e2137e1</td>\n",
       "      <td>3</td>\n",
       "    </tr>\n",
       "    <tr>\n",
       "      <th>79</th>\n",
       "      <td>2019-09-22</td>\n",
       "      <td>293a66ba-6ee1-4451-81d4-50bb6e2137e1</td>\n",
       "      <td>3</td>\n",
       "    </tr>\n",
       "    <tr>\n",
       "      <th>80</th>\n",
       "      <td>2019-09-23</td>\n",
       "      <td>293a66ba-6ee1-4451-81d4-50bb6e2137e1</td>\n",
       "      <td>1</td>\n",
       "    </tr>\n",
       "    <tr>\n",
       "      <th>81</th>\n",
       "      <td>2019-09-25</td>\n",
       "      <td>293a66ba-6ee1-4451-81d4-50bb6e2137e1</td>\n",
       "      <td>5</td>\n",
       "    </tr>\n",
       "    <tr>\n",
       "      <th>82</th>\n",
       "      <td>2019-09-26</td>\n",
       "      <td>293a66ba-6ee1-4451-81d4-50bb6e2137e1</td>\n",
       "      <td>7</td>\n",
       "    </tr>\n",
       "    <tr>\n",
       "      <th>83</th>\n",
       "      <td>2019-09-27</td>\n",
       "      <td>293a66ba-6ee1-4451-81d4-50bb6e2137e1</td>\n",
       "      <td>1</td>\n",
       "    </tr>\n",
       "    <tr>\n",
       "      <th>84</th>\n",
       "      <td>2019-09-28</td>\n",
       "      <td>293a66ba-6ee1-4451-81d4-50bb6e2137e1</td>\n",
       "      <td>2</td>\n",
       "    </tr>\n",
       "    <tr>\n",
       "      <th>85</th>\n",
       "      <td>2019-09-29</td>\n",
       "      <td>293a66ba-6ee1-4451-81d4-50bb6e2137e1</td>\n",
       "      <td>2</td>\n",
       "    </tr>\n",
       "    <tr>\n",
       "      <th>86</th>\n",
       "      <td>2019-09-30</td>\n",
       "      <td>293a66ba-6ee1-4451-81d4-50bb6e2137e1</td>\n",
       "      <td>3</td>\n",
       "    </tr>\n",
       "    <tr>\n",
       "      <th>87</th>\n",
       "      <td>2019-10-01</td>\n",
       "      <td>293a66ba-6ee1-4451-81d4-50bb6e2137e1</td>\n",
       "      <td>3</td>\n",
       "    </tr>\n",
       "  </tbody>\n",
       "</table>\n",
       "</div>"
      ],
      "text/plain": [
       "          Date                              Customer  Count\n",
       "68  2019-09-07  293a66ba-6ee1-4451-81d4-50bb6e2137e1      2\n",
       "69  2019-09-08  293a66ba-6ee1-4451-81d4-50bb6e2137e1      1\n",
       "70  2019-09-09  293a66ba-6ee1-4451-81d4-50bb6e2137e1      6\n",
       "71  2019-09-10  293a66ba-6ee1-4451-81d4-50bb6e2137e1      3\n",
       "72  2019-09-12  293a66ba-6ee1-4451-81d4-50bb6e2137e1     11\n",
       "73  2019-09-13  293a66ba-6ee1-4451-81d4-50bb6e2137e1      1\n",
       "74  2019-09-15  293a66ba-6ee1-4451-81d4-50bb6e2137e1      1\n",
       "75  2019-09-16  293a66ba-6ee1-4451-81d4-50bb6e2137e1      4\n",
       "76  2019-09-18  293a66ba-6ee1-4451-81d4-50bb6e2137e1      1\n",
       "77  2019-09-19  293a66ba-6ee1-4451-81d4-50bb6e2137e1      2\n",
       "78  2019-09-21  293a66ba-6ee1-4451-81d4-50bb6e2137e1      3\n",
       "79  2019-09-22  293a66ba-6ee1-4451-81d4-50bb6e2137e1      3\n",
       "80  2019-09-23  293a66ba-6ee1-4451-81d4-50bb6e2137e1      1\n",
       "81  2019-09-25  293a66ba-6ee1-4451-81d4-50bb6e2137e1      5\n",
       "82  2019-09-26  293a66ba-6ee1-4451-81d4-50bb6e2137e1      7\n",
       "83  2019-09-27  293a66ba-6ee1-4451-81d4-50bb6e2137e1      1\n",
       "84  2019-09-28  293a66ba-6ee1-4451-81d4-50bb6e2137e1      2\n",
       "85  2019-09-29  293a66ba-6ee1-4451-81d4-50bb6e2137e1      2\n",
       "86  2019-09-30  293a66ba-6ee1-4451-81d4-50bb6e2137e1      3\n",
       "87  2019-10-01  293a66ba-6ee1-4451-81d4-50bb6e2137e1      3"
      ]
     },
     "execution_count": 5,
     "metadata": {},
     "output_type": "execute_result"
    }
   ],
   "source": [
    "df.tail(20)"
   ]
  },
  {
   "cell_type": "markdown",
   "metadata": {},
   "source": [
    "# Test https://stackoverflow.com/questions/29091468/pandas-time-series-time-between-events"
   ]
  },
  {
   "cell_type": "markdown",
   "metadata": {},
   "source": [
    "date_range = pd.date_range('2010-01-01', '2010-01-06')\n",
    "df = pd.DataFrame([False, True, False, False, True, False], index=date_range, columns=['event'])\n",
    "event_dates = df.index[df['event']]\n",
    "df2 = pd.DataFrame(event_dates, index=event_dates, columns=['max_event_date'])\n",
    "df = df.join(df2)\n",
    "df['max_event_date'] = df['max_event_date'].cummax(axis=0, skipna=False)\n",
    "df['days_since_event'] = df.index - df['max_event_date']"
   ]
  },
  {
   "cell_type": "code",
   "execution_count": 28,
   "metadata": {},
   "outputs": [
    {
     "name": "stdout",
     "output_type": "stream",
     "text": [
      "<class 'pandas.core.frame.DataFrame'>\n",
      "RangeIndex: 88 entries, 0 to 87\n",
      "Data columns (total 3 columns):\n",
      "Date        88 non-null object\n",
      "Customer    88 non-null object\n",
      "Count       88 non-null int64\n",
      "dtypes: int64(1), object(2)\n",
      "memory usage: 2.1+ KB\n"
     ]
    },
    {
     "data": {
      "text/plain": [
       "88"
      ]
     },
     "execution_count": 28,
     "metadata": {},
     "output_type": "execute_result"
    }
   ],
   "source": [
    "df.info()\n",
    "len(df)"
   ]
  },
  {
   "cell_type": "code",
   "execution_count": 32,
   "metadata": {},
   "outputs": [
    {
     "data": {
      "text/plain": [
       "('2019-06-04', '2019-10-01')"
      ]
     },
     "execution_count": 32,
     "metadata": {},
     "output_type": "execute_result"
    }
   ],
   "source": [
    "df['Date'].iloc[0]\n",
    "df['Date'].iloc[len(df)-1]\n",
    "data_range = (df['Date'].iloc[0],df['Date'].iloc[len(df)-1])"
   ]
  },
  {
   "cell_type": "markdown",
   "metadata": {
    "colab_type": "text",
    "id": "wPP2dVFozd8I"
   },
   "source": [
    "# Bulding one DF from all entries filling the missing data with 0"
   ]
  },
  {
   "cell_type": "code",
   "execution_count": 16,
   "metadata": {
    "colab": {},
    "colab_type": "code",
    "id": "zOR-_2y6z21T"
   },
   "outputs": [],
   "source": [
    "# first we will build a complete Series/DatFrame wth 120 Entries\n",
    "reference_series=pd.Series(np.arange(2,122,1))\n",
    "reference_df=pd.DataFrame(reference_series,columns=['Days'])\n",
    "reference_df['dummy']=999\n",
    "reference_df=reference_df.set_index(\"Days\")\n",
    "# reference_df\n"
   ]
  },
  {
   "cell_type": "code",
   "execution_count": 17,
   "metadata": {
    "colab": {
     "base_uri": "https://localhost:8080/",
     "height": 34
    },
    "colab_type": "code",
    "id": "kOah1A--5Dgb",
    "outputId": "a3594673-1952-4d83-fac8-02879116180f"
   },
   "outputs": [
    {
     "data": {
      "text/plain": [
       "['293a66ba-6ee1-4451-81d4-50bb6e2137e1']"
      ]
     },
     "execution_count": 17,
     "metadata": {},
     "output_type": "execute_result"
    }
   ],
   "source": [
    "customer_list=df['Customer'].unique().tolist()\n",
    "customer_list"
   ]
  },
  {
   "cell_type": "code",
   "execution_count": 18,
   "metadata": {
    "colab": {
     "base_uri": "https://localhost:8080/",
     "height": 34
    },
    "colab_type": "code",
    "id": "MrIem7pEGwSd",
    "outputId": "42684223-576e-4a3b-ed8d-49b1f93bc44d"
   },
   "outputs": [
    {
     "data": {
      "text/plain": [
       "1"
      ]
     },
     "execution_count": 18,
     "metadata": {},
     "output_type": "execute_result"
    }
   ],
   "source": [
    "number_of_costomers=len(customer_list)\n",
    "number_of_costomers"
   ]
  },
  {
   "cell_type": "markdown",
   "metadata": {
    "colab_type": "text",
    "id": "Ew-vAxOow38S"
   },
   "source": [
    "# New Section \n",
    "\n",
    "---\n",
    "\n",
    "let's check what we can do "
   ]
  },
  {
   "cell_type": "code",
   "execution_count": 20,
   "metadata": {
    "colab": {},
    "colab_type": "code",
    "id": "O9xym1sb9-n-"
   },
   "outputs": [],
   "source": [
    "# aa=df[df['Customer']=='ff29622b-fe7e-41cd-8c3f-eed1204ba416']\n",
    "# aa=aa.set_index('Days')\n",
    "# aa.rename(columns={'Customer': 'todel', 'Count': 'customer'}, inplace=True)\n",
    "# aa.drop(['todel'],axis=1,inplace=True)\n",
    "# reference_df=reference_df.join(aa, how='outer')\n",
    "\n",
    "for cust in customer_list:\n",
    "  a=df[df['Customer']==cust]\n",
    "  a=a.set_index('Date')\n",
    "  a.rename(columns={'Customer': 'todel', 'Count': cust}, inplace=True)\n",
    "  a.drop(['todel'],axis=1,inplace=True)\n",
    "  reference_df=reference_df.join(a, how='outer')\n",
    "  \n"
   ]
  },
  {
   "cell_type": "code",
   "execution_count": 21,
   "metadata": {
    "colab": {},
    "colab_type": "code",
    "id": "zo7dA796xfDG"
   },
   "outputs": [],
   "source": [
    "reference_df.fillna(0,inplace=True)\n",
    "referance_df=reference_df.drop(['dummy'],axis=1,inplace=True)"
   ]
  },
  {
   "cell_type": "code",
   "execution_count": 22,
   "metadata": {
    "colab": {
     "base_uri": "https://localhost:8080/",
     "height": 2000
    },
    "colab_type": "code",
    "id": "2UA7buRqyGbG",
    "outputId": "0255c22d-00e7-4c5a-a2f3-f99593cd8cff"
   },
   "outputs": [
    {
     "data": {
      "text/html": [
       "<div>\n",
       "<style scoped>\n",
       "    .dataframe tbody tr th:only-of-type {\n",
       "        vertical-align: middle;\n",
       "    }\n",
       "\n",
       "    .dataframe tbody tr th {\n",
       "        vertical-align: top;\n",
       "    }\n",
       "\n",
       "    .dataframe thead th {\n",
       "        text-align: right;\n",
       "    }\n",
       "</style>\n",
       "<table border=\"1\" class=\"dataframe\">\n",
       "  <thead>\n",
       "    <tr style=\"text-align: right;\">\n",
       "      <th></th>\n",
       "      <th>293a66ba-6ee1-4451-81d4-50bb6e2137e1</th>\n",
       "    </tr>\n",
       "  </thead>\n",
       "  <tbody>\n",
       "    <tr>\n",
       "      <th>2</th>\n",
       "      <td>0</td>\n",
       "    </tr>\n",
       "    <tr>\n",
       "      <th>3</th>\n",
       "      <td>0</td>\n",
       "    </tr>\n",
       "    <tr>\n",
       "      <th>4</th>\n",
       "      <td>0</td>\n",
       "    </tr>\n",
       "    <tr>\n",
       "      <th>5</th>\n",
       "      <td>0</td>\n",
       "    </tr>\n",
       "    <tr>\n",
       "      <th>6</th>\n",
       "      <td>0</td>\n",
       "    </tr>\n",
       "    <tr>\n",
       "      <th>7</th>\n",
       "      <td>0</td>\n",
       "    </tr>\n",
       "    <tr>\n",
       "      <th>8</th>\n",
       "      <td>0</td>\n",
       "    </tr>\n",
       "    <tr>\n",
       "      <th>9</th>\n",
       "      <td>0</td>\n",
       "    </tr>\n",
       "    <tr>\n",
       "      <th>10</th>\n",
       "      <td>0</td>\n",
       "    </tr>\n",
       "    <tr>\n",
       "      <th>11</th>\n",
       "      <td>0</td>\n",
       "    </tr>\n",
       "    <tr>\n",
       "      <th>12</th>\n",
       "      <td>0</td>\n",
       "    </tr>\n",
       "    <tr>\n",
       "      <th>13</th>\n",
       "      <td>0</td>\n",
       "    </tr>\n",
       "    <tr>\n",
       "      <th>14</th>\n",
       "      <td>0</td>\n",
       "    </tr>\n",
       "    <tr>\n",
       "      <th>15</th>\n",
       "      <td>0</td>\n",
       "    </tr>\n",
       "    <tr>\n",
       "      <th>16</th>\n",
       "      <td>0</td>\n",
       "    </tr>\n",
       "    <tr>\n",
       "      <th>17</th>\n",
       "      <td>0</td>\n",
       "    </tr>\n",
       "    <tr>\n",
       "      <th>18</th>\n",
       "      <td>0</td>\n",
       "    </tr>\n",
       "    <tr>\n",
       "      <th>19</th>\n",
       "      <td>0</td>\n",
       "    </tr>\n",
       "    <tr>\n",
       "      <th>20</th>\n",
       "      <td>0</td>\n",
       "    </tr>\n",
       "    <tr>\n",
       "      <th>21</th>\n",
       "      <td>0</td>\n",
       "    </tr>\n",
       "    <tr>\n",
       "      <th>22</th>\n",
       "      <td>0</td>\n",
       "    </tr>\n",
       "    <tr>\n",
       "      <th>23</th>\n",
       "      <td>0</td>\n",
       "    </tr>\n",
       "    <tr>\n",
       "      <th>24</th>\n",
       "      <td>0</td>\n",
       "    </tr>\n",
       "    <tr>\n",
       "      <th>25</th>\n",
       "      <td>0</td>\n",
       "    </tr>\n",
       "    <tr>\n",
       "      <th>26</th>\n",
       "      <td>0</td>\n",
       "    </tr>\n",
       "    <tr>\n",
       "      <th>27</th>\n",
       "      <td>0</td>\n",
       "    </tr>\n",
       "    <tr>\n",
       "      <th>28</th>\n",
       "      <td>0</td>\n",
       "    </tr>\n",
       "    <tr>\n",
       "      <th>29</th>\n",
       "      <td>0</td>\n",
       "    </tr>\n",
       "    <tr>\n",
       "      <th>30</th>\n",
       "      <td>0</td>\n",
       "    </tr>\n",
       "    <tr>\n",
       "      <th>31</th>\n",
       "      <td>0</td>\n",
       "    </tr>\n",
       "    <tr>\n",
       "      <th>...</th>\n",
       "      <td>...</td>\n",
       "    </tr>\n",
       "    <tr>\n",
       "      <th>2019-08-05</th>\n",
       "      <td>1</td>\n",
       "    </tr>\n",
       "    <tr>\n",
       "      <th>2019-08-06</th>\n",
       "      <td>1</td>\n",
       "    </tr>\n",
       "    <tr>\n",
       "      <th>2019-08-07</th>\n",
       "      <td>1</td>\n",
       "    </tr>\n",
       "    <tr>\n",
       "      <th>2019-08-08</th>\n",
       "      <td>2</td>\n",
       "    </tr>\n",
       "    <tr>\n",
       "      <th>2019-08-10</th>\n",
       "      <td>2</td>\n",
       "    </tr>\n",
       "    <tr>\n",
       "      <th>2019-08-11</th>\n",
       "      <td>2</td>\n",
       "    </tr>\n",
       "    <tr>\n",
       "      <th>2019-08-12</th>\n",
       "      <td>7</td>\n",
       "    </tr>\n",
       "    <tr>\n",
       "      <th>2019-08-13</th>\n",
       "      <td>1</td>\n",
       "    </tr>\n",
       "    <tr>\n",
       "      <th>2019-08-14</th>\n",
       "      <td>9</td>\n",
       "    </tr>\n",
       "    <tr>\n",
       "      <th>2019-08-15</th>\n",
       "      <td>37</td>\n",
       "    </tr>\n",
       "    <tr>\n",
       "      <th>2019-08-16</th>\n",
       "      <td>3</td>\n",
       "    </tr>\n",
       "    <tr>\n",
       "      <th>2019-08-17</th>\n",
       "      <td>5</td>\n",
       "    </tr>\n",
       "    <tr>\n",
       "      <th>2019-08-18</th>\n",
       "      <td>20</td>\n",
       "    </tr>\n",
       "    <tr>\n",
       "      <th>2019-08-19</th>\n",
       "      <td>18</td>\n",
       "    </tr>\n",
       "    <tr>\n",
       "      <th>2019-08-20</th>\n",
       "      <td>32</td>\n",
       "    </tr>\n",
       "    <tr>\n",
       "      <th>2019-08-21</th>\n",
       "      <td>1</td>\n",
       "    </tr>\n",
       "    <tr>\n",
       "      <th>2019-08-22</th>\n",
       "      <td>1</td>\n",
       "    </tr>\n",
       "    <tr>\n",
       "      <th>2019-08-25</th>\n",
       "      <td>1</td>\n",
       "    </tr>\n",
       "    <tr>\n",
       "      <th>2019-08-26</th>\n",
       "      <td>7</td>\n",
       "    </tr>\n",
       "    <tr>\n",
       "      <th>2019-08-28</th>\n",
       "      <td>1</td>\n",
       "    </tr>\n",
       "    <tr>\n",
       "      <th>2019-08-29</th>\n",
       "      <td>1</td>\n",
       "    </tr>\n",
       "    <tr>\n",
       "      <th>2019-08-30</th>\n",
       "      <td>2</td>\n",
       "    </tr>\n",
       "    <tr>\n",
       "      <th>2019-09-03</th>\n",
       "      <td>8</td>\n",
       "    </tr>\n",
       "    <tr>\n",
       "      <th>2019-09-04</th>\n",
       "      <td>2</td>\n",
       "    </tr>\n",
       "    <tr>\n",
       "      <th>2019-09-05</th>\n",
       "      <td>1</td>\n",
       "    </tr>\n",
       "    <tr>\n",
       "      <th>2019-09-07</th>\n",
       "      <td>2</td>\n",
       "    </tr>\n",
       "    <tr>\n",
       "      <th>2019-09-08</th>\n",
       "      <td>1</td>\n",
       "    </tr>\n",
       "    <tr>\n",
       "      <th>2019-09-09</th>\n",
       "      <td>6</td>\n",
       "    </tr>\n",
       "    <tr>\n",
       "      <th>2019-09-10</th>\n",
       "      <td>3</td>\n",
       "    </tr>\n",
       "    <tr>\n",
       "      <th>2019-09-12</th>\n",
       "      <td>11</td>\n",
       "    </tr>\n",
       "  </tbody>\n",
       "</table>\n",
       "<p>209 rows × 1 columns</p>\n",
       "</div>"
      ],
      "text/plain": [
       "            293a66ba-6ee1-4451-81d4-50bb6e2137e1\n",
       "2                                              0\n",
       "3                                              0\n",
       "4                                              0\n",
       "5                                              0\n",
       "6                                              0\n",
       "7                                              0\n",
       "8                                              0\n",
       "9                                              0\n",
       "10                                             0\n",
       "11                                             0\n",
       "12                                             0\n",
       "13                                             0\n",
       "14                                             0\n",
       "15                                             0\n",
       "16                                             0\n",
       "17                                             0\n",
       "18                                             0\n",
       "19                                             0\n",
       "20                                             0\n",
       "21                                             0\n",
       "22                                             0\n",
       "23                                             0\n",
       "24                                             0\n",
       "25                                             0\n",
       "26                                             0\n",
       "27                                             0\n",
       "28                                             0\n",
       "29                                             0\n",
       "30                                             0\n",
       "31                                             0\n",
       "...                                          ...\n",
       "2019-08-05                                     1\n",
       "2019-08-06                                     1\n",
       "2019-08-07                                     1\n",
       "2019-08-08                                     2\n",
       "2019-08-10                                     2\n",
       "2019-08-11                                     2\n",
       "2019-08-12                                     7\n",
       "2019-08-13                                     1\n",
       "2019-08-14                                     9\n",
       "2019-08-15                                    37\n",
       "2019-08-16                                     3\n",
       "2019-08-17                                     5\n",
       "2019-08-18                                    20\n",
       "2019-08-19                                    18\n",
       "2019-08-20                                    32\n",
       "2019-08-21                                     1\n",
       "2019-08-22                                     1\n",
       "2019-08-25                                     1\n",
       "2019-08-26                                     7\n",
       "2019-08-28                                     1\n",
       "2019-08-29                                     1\n",
       "2019-08-30                                     2\n",
       "2019-09-03                                     8\n",
       "2019-09-04                                     2\n",
       "2019-09-05                                     1\n",
       "2019-09-07                                     2\n",
       "2019-09-08                                     1\n",
       "2019-09-09                                     6\n",
       "2019-09-10                                     3\n",
       "2019-09-12                                    11\n",
       "\n",
       "[209 rows x 1 columns]"
      ]
     },
     "execution_count": 22,
     "metadata": {},
     "output_type": "execute_result"
    }
   ],
   "source": [
    "reference_df=reference_df.astype('int64')\n",
    "reference_df"
   ]
  },
  {
   "cell_type": "code",
   "execution_count": 11,
   "metadata": {
    "colab": {
     "base_uri": "https://localhost:8080/",
     "height": 378
    },
    "colab_type": "code",
    "id": "3uLZp0wZO8xG",
    "outputId": "34bfbdcd-a7ca-4279-8f7e-0e964dbc30d3"
   },
   "outputs": [
    {
     "data": {
      "text/plain": [
       "<matplotlib.axes._subplots.AxesSubplot at 0x1a1b85b3c8>"
      ]
     },
     "execution_count": 11,
     "metadata": {},
     "output_type": "execute_result"
    },
    {
     "data": {
      "image/png": "[encoded data removed]",
      "text/plain": [
       "<Figure size 432x288 with 1 Axes>"
      ]
     },
     "metadata": {
      "needs_background": "light"
     },
     "output_type": "display_data"
    }
   ],
   "source": [
    "\n",
    "reference_df.plot()"
   ]
  },
  {
   "cell_type": "code",
   "execution_count": 12,
   "metadata": {
    "colab": {
     "base_uri": "https://localhost:8080/",
     "height": 2000
    },
    "colab_type": "code",
    "id": "K6e1VCr9xlNs",
    "outputId": "2b540b37-6144-44ee-fc9e-9ce44b30c917"
   },
   "outputs": [
    {
     "data": {
      "text/html": [
       "<div>\n",
       "<style scoped>\n",
       "    .dataframe tbody tr th:only-of-type {\n",
       "        vertical-align: middle;\n",
       "    }\n",
       "\n",
       "    .dataframe tbody tr th {\n",
       "        vertical-align: top;\n",
       "    }\n",
       "\n",
       "    .dataframe thead th {\n",
       "        text-align: right;\n",
       "    }\n",
       "</style>\n",
       "<table border=\"1\" class=\"dataframe\">\n",
       "  <thead>\n",
       "    <tr style=\"text-align: right;\">\n",
       "      <th></th>\n",
       "      <th>293a66ba-6ee1-4451-81d4-50bb6e2137e1</th>\n",
       "    </tr>\n",
       "    <tr>\n",
       "      <th>Days</th>\n",
       "      <th></th>\n",
       "    </tr>\n",
       "  </thead>\n",
       "  <tbody>\n",
       "    <tr>\n",
       "      <th>2</th>\n",
       "      <td>1</td>\n",
       "    </tr>\n",
       "    <tr>\n",
       "      <th>3</th>\n",
       "      <td>1</td>\n",
       "    </tr>\n",
       "    <tr>\n",
       "      <th>4</th>\n",
       "      <td>1</td>\n",
       "    </tr>\n",
       "    <tr>\n",
       "      <th>5</th>\n",
       "      <td>0</td>\n",
       "    </tr>\n",
       "    <tr>\n",
       "      <th>6</th>\n",
       "      <td>3</td>\n",
       "    </tr>\n",
       "    <tr>\n",
       "      <th>7</th>\n",
       "      <td>2</td>\n",
       "    </tr>\n",
       "    <tr>\n",
       "      <th>8</th>\n",
       "      <td>1</td>\n",
       "    </tr>\n",
       "    <tr>\n",
       "      <th>9</th>\n",
       "      <td>1</td>\n",
       "    </tr>\n",
       "    <tr>\n",
       "      <th>10</th>\n",
       "      <td>17</td>\n",
       "    </tr>\n",
       "    <tr>\n",
       "      <th>11</th>\n",
       "      <td>6</td>\n",
       "    </tr>\n",
       "    <tr>\n",
       "      <th>12</th>\n",
       "      <td>5</td>\n",
       "    </tr>\n",
       "    <tr>\n",
       "      <th>13</th>\n",
       "      <td>2</td>\n",
       "    </tr>\n",
       "    <tr>\n",
       "      <th>14</th>\n",
       "      <td>11</td>\n",
       "    </tr>\n",
       "    <tr>\n",
       "      <th>15</th>\n",
       "      <td>0</td>\n",
       "    </tr>\n",
       "    <tr>\n",
       "      <th>16</th>\n",
       "      <td>17</td>\n",
       "    </tr>\n",
       "    <tr>\n",
       "      <th>17</th>\n",
       "      <td>4</td>\n",
       "    </tr>\n",
       "    <tr>\n",
       "      <th>18</th>\n",
       "      <td>1</td>\n",
       "    </tr>\n",
       "    <tr>\n",
       "      <th>19</th>\n",
       "      <td>5</td>\n",
       "    </tr>\n",
       "    <tr>\n",
       "      <th>20</th>\n",
       "      <td>12</td>\n",
       "    </tr>\n",
       "    <tr>\n",
       "      <th>21</th>\n",
       "      <td>4</td>\n",
       "    </tr>\n",
       "    <tr>\n",
       "      <th>22</th>\n",
       "      <td>3</td>\n",
       "    </tr>\n",
       "    <tr>\n",
       "      <th>23</th>\n",
       "      <td>3</td>\n",
       "    </tr>\n",
       "    <tr>\n",
       "      <th>24</th>\n",
       "      <td>0</td>\n",
       "    </tr>\n",
       "    <tr>\n",
       "      <th>25</th>\n",
       "      <td>17</td>\n",
       "    </tr>\n",
       "    <tr>\n",
       "      <th>26</th>\n",
       "      <td>29</td>\n",
       "    </tr>\n",
       "    <tr>\n",
       "      <th>27</th>\n",
       "      <td>31</td>\n",
       "    </tr>\n",
       "    <tr>\n",
       "      <th>28</th>\n",
       "      <td>37</td>\n",
       "    </tr>\n",
       "    <tr>\n",
       "      <th>29</th>\n",
       "      <td>39</td>\n",
       "    </tr>\n",
       "    <tr>\n",
       "      <th>30</th>\n",
       "      <td>13</td>\n",
       "    </tr>\n",
       "    <tr>\n",
       "      <th>31</th>\n",
       "      <td>0</td>\n",
       "    </tr>\n",
       "    <tr>\n",
       "      <th>...</th>\n",
       "      <td>...</td>\n",
       "    </tr>\n",
       "    <tr>\n",
       "      <th>92</th>\n",
       "      <td>9</td>\n",
       "    </tr>\n",
       "    <tr>\n",
       "      <th>93</th>\n",
       "      <td>37</td>\n",
       "    </tr>\n",
       "    <tr>\n",
       "      <th>94</th>\n",
       "      <td>3</td>\n",
       "    </tr>\n",
       "    <tr>\n",
       "      <th>95</th>\n",
       "      <td>5</td>\n",
       "    </tr>\n",
       "    <tr>\n",
       "      <th>96</th>\n",
       "      <td>20</td>\n",
       "    </tr>\n",
       "    <tr>\n",
       "      <th>97</th>\n",
       "      <td>18</td>\n",
       "    </tr>\n",
       "    <tr>\n",
       "      <th>98</th>\n",
       "      <td>32</td>\n",
       "    </tr>\n",
       "    <tr>\n",
       "      <th>99</th>\n",
       "      <td>1</td>\n",
       "    </tr>\n",
       "    <tr>\n",
       "      <th>100</th>\n",
       "      <td>1</td>\n",
       "    </tr>\n",
       "    <tr>\n",
       "      <th>101</th>\n",
       "      <td>0</td>\n",
       "    </tr>\n",
       "    <tr>\n",
       "      <th>102</th>\n",
       "      <td>0</td>\n",
       "    </tr>\n",
       "    <tr>\n",
       "      <th>103</th>\n",
       "      <td>1</td>\n",
       "    </tr>\n",
       "    <tr>\n",
       "      <th>104</th>\n",
       "      <td>7</td>\n",
       "    </tr>\n",
       "    <tr>\n",
       "      <th>105</th>\n",
       "      <td>0</td>\n",
       "    </tr>\n",
       "    <tr>\n",
       "      <th>106</th>\n",
       "      <td>1</td>\n",
       "    </tr>\n",
       "    <tr>\n",
       "      <th>107</th>\n",
       "      <td>1</td>\n",
       "    </tr>\n",
       "    <tr>\n",
       "      <th>108</th>\n",
       "      <td>2</td>\n",
       "    </tr>\n",
       "    <tr>\n",
       "      <th>109</th>\n",
       "      <td>0</td>\n",
       "    </tr>\n",
       "    <tr>\n",
       "      <th>110</th>\n",
       "      <td>0</td>\n",
       "    </tr>\n",
       "    <tr>\n",
       "      <th>111</th>\n",
       "      <td>0</td>\n",
       "    </tr>\n",
       "    <tr>\n",
       "      <th>112</th>\n",
       "      <td>8</td>\n",
       "    </tr>\n",
       "    <tr>\n",
       "      <th>113</th>\n",
       "      <td>2</td>\n",
       "    </tr>\n",
       "    <tr>\n",
       "      <th>114</th>\n",
       "      <td>1</td>\n",
       "    </tr>\n",
       "    <tr>\n",
       "      <th>115</th>\n",
       "      <td>0</td>\n",
       "    </tr>\n",
       "    <tr>\n",
       "      <th>116</th>\n",
       "      <td>2</td>\n",
       "    </tr>\n",
       "    <tr>\n",
       "      <th>117</th>\n",
       "      <td>1</td>\n",
       "    </tr>\n",
       "    <tr>\n",
       "      <th>118</th>\n",
       "      <td>6</td>\n",
       "    </tr>\n",
       "    <tr>\n",
       "      <th>119</th>\n",
       "      <td>3</td>\n",
       "    </tr>\n",
       "    <tr>\n",
       "      <th>120</th>\n",
       "      <td>0</td>\n",
       "    </tr>\n",
       "    <tr>\n",
       "      <th>121</th>\n",
       "      <td>9</td>\n",
       "    </tr>\n",
       "  </tbody>\n",
       "</table>\n",
       "<p>120 rows × 1 columns</p>\n",
       "</div>"
      ],
      "text/plain": [
       "      293a66ba-6ee1-4451-81d4-50bb6e2137e1\n",
       "Days                                      \n",
       "2                                        1\n",
       "3                                        1\n",
       "4                                        1\n",
       "5                                        0\n",
       "6                                        3\n",
       "7                                        2\n",
       "8                                        1\n",
       "9                                        1\n",
       "10                                      17\n",
       "11                                       6\n",
       "12                                       5\n",
       "13                                       2\n",
       "14                                      11\n",
       "15                                       0\n",
       "16                                      17\n",
       "17                                       4\n",
       "18                                       1\n",
       "19                                       5\n",
       "20                                      12\n",
       "21                                       4\n",
       "22                                       3\n",
       "23                                       3\n",
       "24                                       0\n",
       "25                                      17\n",
       "26                                      29\n",
       "27                                      31\n",
       "28                                      37\n",
       "29                                      39\n",
       "30                                      13\n",
       "31                                       0\n",
       "...                                    ...\n",
       "92                                       9\n",
       "93                                      37\n",
       "94                                       3\n",
       "95                                       5\n",
       "96                                      20\n",
       "97                                      18\n",
       "98                                      32\n",
       "99                                       1\n",
       "100                                      1\n",
       "101                                      0\n",
       "102                                      0\n",
       "103                                      1\n",
       "104                                      7\n",
       "105                                      0\n",
       "106                                      1\n",
       "107                                      1\n",
       "108                                      2\n",
       "109                                      0\n",
       "110                                      0\n",
       "111                                      0\n",
       "112                                      8\n",
       "113                                      2\n",
       "114                                      1\n",
       "115                                      0\n",
       "116                                      2\n",
       "117                                      1\n",
       "118                                      6\n",
       "119                                      3\n",
       "120                                      0\n",
       "121                                      9\n",
       "\n",
       "[120 rows x 1 columns]"
      ]
     },
     "execution_count": 12,
     "metadata": {},
     "output_type": "execute_result"
    }
   ],
   "source": [
    "df_sdoriginal=reference_df.copy()\n",
    "df_sd=reference_df.copy()\n",
    "df_sdoriginal"
   ]
  },
  {
   "cell_type": "code",
   "execution_count": null,
   "metadata": {
    "colab": {},
    "colab_type": "code",
    "id": "DOlz7PpN_YrW"
   },
   "outputs": [],
   "source": []
  },
  {
   "cell_type": "markdown",
   "metadata": {
    "colab_type": "text",
    "id": "JfgSQ5nl_m-2"
   },
   "source": [
    "# here we check running \"0\""
   ]
  },
  {
   "cell_type": "code",
   "execution_count": 13,
   "metadata": {
    "colab": {
     "base_uri": "https://localhost:8080/",
     "height": 51
    },
    "colab_type": "code",
    "id": "2X6yFicmS6B2",
    "outputId": "698eca41-988b-45a5-ab2c-54b6c316f9a2"
   },
   "outputs": [
    {
     "name": "stdout",
     "output_type": "stream",
     "text": [
      "col_list Index(['293a66ba-6ee1-4451-81d4-50bb6e2137e1'], dtype='object')\n"
     ]
    },
    {
     "data": {
      "text/plain": [
       "Index(['293a66ba-6ee1-4451-81d4-50bb6e2137e1'], dtype='object')"
      ]
     },
     "execution_count": 13,
     "metadata": {},
     "output_type": "execute_result"
    }
   ],
   "source": [
    "col_list=df_sdoriginal.columns\n",
    "\n",
    "print(\"col_list {}\".format(col_list))\n",
    "\n",
    "df_sd.head()\n",
    "\n",
    "for c in col_list:\n",
    "    a=df_sd[c]\n",
    "    b=[0]*len(a)\n",
    "    for i in range(len(a)):\n",
    "        if a.iloc[i] == 0:\n",
    "            b[i] = b[i-1] + 1\n",
    "        else:\n",
    "            b[i] = 0\n",
    "    #print ('this is the list of consecative 0 in the {} Column {}'.format(c,b) )\n",
    "    #b=pd.Series(b) \n",
    "    df_sd[c+\"-0s\"]= pd.Series(b, index=df_sd.index)\n",
    "    df_sd\n",
    "df_sd.head()\n",
    "col_list"
   ]
  },
  {
   "cell_type": "markdown",
   "metadata": {
    "colab_type": "text",
    "id": "GV74cRdYAJgU"
   },
   "source": [
    "# Now we check the AVG and STD for 4 consequetive numbers"
   ]
  },
  {
   "cell_type": "code",
   "execution_count": 14,
   "metadata": {
    "colab": {},
    "colab_type": "code",
    "id": "P9QbBN1eAIUg"
   },
   "outputs": [],
   "source": [
    "for c in col_list:\n",
    "    df_sd[c+'-avg_4'] = (df_sdoriginal[c].rolling(4).mean())\n",
    "    df_sd[c+'-std_4'] = (df_sdoriginal[c].rolling(4).std())"
   ]
  },
  {
   "cell_type": "code",
   "execution_count": 15,
   "metadata": {
    "colab": {
     "base_uri": "https://localhost:8080/",
     "height": 252
    },
    "colab_type": "code",
    "id": "m8DCFbgyCGUU",
    "outputId": "87821d83-0ef0-4dab-d943-566a3d5b5e4f"
   },
   "outputs": [
    {
     "data": {
      "text/html": [
       "<div>\n",
       "<style scoped>\n",
       "    .dataframe tbody tr th:only-of-type {\n",
       "        vertical-align: middle;\n",
       "    }\n",
       "\n",
       "    .dataframe tbody tr th {\n",
       "        vertical-align: top;\n",
       "    }\n",
       "\n",
       "    .dataframe thead th {\n",
       "        text-align: right;\n",
       "    }\n",
       "</style>\n",
       "<table border=\"1\" class=\"dataframe\">\n",
       "  <thead>\n",
       "    <tr style=\"text-align: right;\">\n",
       "      <th></th>\n",
       "      <th>293a66ba-6ee1-4451-81d4-50bb6e2137e1</th>\n",
       "      <th>293a66ba-6ee1-4451-81d4-50bb6e2137e1-0s</th>\n",
       "      <th>293a66ba-6ee1-4451-81d4-50bb6e2137e1-avg_4</th>\n",
       "      <th>293a66ba-6ee1-4451-81d4-50bb6e2137e1-std_4</th>\n",
       "    </tr>\n",
       "    <tr>\n",
       "      <th>Days</th>\n",
       "      <th></th>\n",
       "      <th></th>\n",
       "      <th></th>\n",
       "      <th></th>\n",
       "    </tr>\n",
       "  </thead>\n",
       "  <tbody>\n",
       "    <tr>\n",
       "      <th>2</th>\n",
       "      <td>1</td>\n",
       "      <td>0</td>\n",
       "      <td>NaN</td>\n",
       "      <td>NaN</td>\n",
       "    </tr>\n",
       "    <tr>\n",
       "      <th>3</th>\n",
       "      <td>1</td>\n",
       "      <td>0</td>\n",
       "      <td>NaN</td>\n",
       "      <td>NaN</td>\n",
       "    </tr>\n",
       "    <tr>\n",
       "      <th>4</th>\n",
       "      <td>1</td>\n",
       "      <td>0</td>\n",
       "      <td>NaN</td>\n",
       "      <td>NaN</td>\n",
       "    </tr>\n",
       "    <tr>\n",
       "      <th>5</th>\n",
       "      <td>0</td>\n",
       "      <td>1</td>\n",
       "      <td>0.75</td>\n",
       "      <td>0.500000</td>\n",
       "    </tr>\n",
       "    <tr>\n",
       "      <th>6</th>\n",
       "      <td>3</td>\n",
       "      <td>0</td>\n",
       "      <td>1.25</td>\n",
       "      <td>1.258306</td>\n",
       "    </tr>\n",
       "  </tbody>\n",
       "</table>\n",
       "</div>"
      ],
      "text/plain": [
       "      293a66ba-6ee1-4451-81d4-50bb6e2137e1  \\\n",
       "Days                                         \n",
       "2                                        1   \n",
       "3                                        1   \n",
       "4                                        1   \n",
       "5                                        0   \n",
       "6                                        3   \n",
       "\n",
       "      293a66ba-6ee1-4451-81d4-50bb6e2137e1-0s  \\\n",
       "Days                                            \n",
       "2                                           0   \n",
       "3                                           0   \n",
       "4                                           0   \n",
       "5                                           1   \n",
       "6                                           0   \n",
       "\n",
       "      293a66ba-6ee1-4451-81d4-50bb6e2137e1-avg_4  \\\n",
       "Days                                               \n",
       "2                                            NaN   \n",
       "3                                            NaN   \n",
       "4                                            NaN   \n",
       "5                                           0.75   \n",
       "6                                           1.25   \n",
       "\n",
       "      293a66ba-6ee1-4451-81d4-50bb6e2137e1-std_4  \n",
       "Days                                              \n",
       "2                                            NaN  \n",
       "3                                            NaN  \n",
       "4                                            NaN  \n",
       "5                                       0.500000  \n",
       "6                                       1.258306  "
      ]
     },
     "execution_count": 15,
     "metadata": {},
     "output_type": "execute_result"
    }
   ],
   "source": [
    "df_sd.head()"
   ]
  },
  {
   "cell_type": "code",
   "execution_count": 16,
   "metadata": {
    "colab": {
     "base_uri": "https://localhost:8080/",
     "height": 34
    },
    "colab_type": "code",
    "id": "ppS-BZnHCj4T",
    "outputId": "3dc065aa-058e-4387-a444-e2a831b8a162"
   },
   "outputs": [
    {
     "data": {
      "text/plain": [
       "Index(['293a66ba-6ee1-4451-81d4-50bb6e2137e1'], dtype='object')"
      ]
     },
     "execution_count": 16,
     "metadata": {},
     "output_type": "execute_result"
    }
   ],
   "source": [
    " col_list"
   ]
  },
  {
   "cell_type": "code",
   "execution_count": 17,
   "metadata": {
    "colab": {
     "base_uri": "https://localhost:8080/",
     "height": 395
    },
    "colab_type": "code",
    "id": "OS7m8YR3DSDS",
    "outputId": "4341679d-0b02-4029-e9a5-715049133485"
   },
   "outputs": [
    {
     "name": "stdout",
     "output_type": "stream",
     "text": [
      "Max 0s {} 5\n"
     ]
    },
    {
     "data": {
      "text/plain": [
       "<matplotlib.axes._subplots.AxesSubplot at 0x1a1b831048>"
      ]
     },
     "execution_count": 17,
     "metadata": {},
     "output_type": "execute_result"
    },
    {
     "data": {
      "image/png": "[encoded data removed]",
      "text/plain": [
       "<Figure size 432x288 with 1 Axes>"
      ]
     },
     "metadata": {
      "needs_background": "light"
     },
     "output_type": "display_data"
    }
   ],
   "source": [
    "print(\"Max 0s {}\",df_sd[c+\"-0s\"].max())\n",
    "\n",
    "df_sd.plot()"
   ]
  },
  {
   "cell_type": "code",
   "execution_count": 18,
   "metadata": {
    "colab": {},
    "colab_type": "code",
    "id": "qqgLajnnCz4X"
   },
   "outputs": [],
   "source": [
    "# df_sd.info()\n",
    "for c in col_list:\n",
    "    df_sd[c+'res'] = (df_sd[c+\"-0s\"]>2) | (df_sd[c]<(df_sd[c+'-avg_4']-df_sd[c+'-std_4']))\n"
   ]
  },
  {
   "cell_type": "code",
   "execution_count": 19,
   "metadata": {
    "colab": {
     "base_uri": "https://localhost:8080/",
     "height": 595
    },
    "colab_type": "code",
    "id": "r6iSFTOmC1AS",
    "outputId": "53ecb414-ab2a-483f-856f-827336a50654"
   },
   "outputs": [
    {
     "name": "stdout",
     "output_type": "stream",
     "text": [
      "for the  293a66ba-6ee1-4451-81d4-50bb6e2137e1 check the following Days\n",
      "5      True\n",
      "24     True\n",
      "30     True\n",
      "31     True\n",
      "37     True\n",
      "38     True\n",
      "39     True\n",
      "65     True\n",
      "69     True\n",
      "87     True\n",
      "99     True\n",
      "109    True\n",
      "111    True\n",
      "Name: 293a66ba-6ee1-4451-81d4-50bb6e2137e1res, dtype: bool\n"
     ]
    }
   ],
   "source": [
    "for c in col_list:\n",
    "    print (\"for the \", c , \"check the following\",df_sd[c+'res'][df_sd[c+'res']==True])"
   ]
  },
  {
   "cell_type": "code",
   "execution_count": 20,
   "metadata": {
    "colab": {
     "base_uri": "https://localhost:8080/",
     "height": 595
    },
    "colab_type": "code",
    "id": "QFlVf0-iDBjC",
    "outputId": "5108bcb9-c204-4ec1-d58b-bb34b96c929f"
   },
   "outputs": [
    {
     "name": "stdout",
     "output_type": "stream",
     "text": [
      "Days\n",
      "5      True\n",
      "24     True\n",
      "30     True\n",
      "31     True\n",
      "37     True\n",
      "38     True\n",
      "39     True\n",
      "65     True\n",
      "69     True\n",
      "87     True\n",
      "99     True\n",
      "109    True\n",
      "111    True\n",
      "Name: 293a66ba-6ee1-4451-81d4-50bb6e2137e1res, dtype: bool\n"
     ]
    }
   ],
   "source": [
    "for c in col_list:\n",
    "    print(df_sd[c+'res'][df_sd[c+'res']==True])"
   ]
  },
  {
   "cell_type": "code",
   "execution_count": 21,
   "metadata": {
    "colab": {
     "base_uri": "https://localhost:8080/",
     "height": 34
    },
    "colab_type": "code",
    "id": "WdiO4qt_Erhw",
    "outputId": "544b39db-df9d-41c1-d267-e9d43eaa2407"
   },
   "outputs": [
    {
     "data": {
      "text/plain": [
       "['293a66ba-6ee1-4451-81d4-50bb6e2137e1res']"
      ]
     },
     "execution_count": 21,
     "metadata": {},
     "output_type": "execute_result"
    }
   ],
   "source": [
    "col_list=df_sd.columns\n",
    "col_res=[c for c in col_list]\n",
    "\n",
    "col_res[-number_of_costomers:]"
   ]
  },
  {
   "cell_type": "code",
   "execution_count": 22,
   "metadata": {
    "colab": {},
    "colab_type": "code",
    "id": "oDWh_-4tHNqL"
   },
   "outputs": [],
   "source": [
    "%matplotlib inline\n",
    "final=df_sd[col_res[-number_of_costomers:]]\n"
   ]
  },
  {
   "cell_type": "code",
   "execution_count": 23,
   "metadata": {
    "colab": {},
    "colab_type": "code",
    "id": "3_XshLexMqlN"
   },
   "outputs": [],
   "source": [
    "# sns.set()\n",
    "\n",
    "# fig, axes = plt.subplots(nrows=number_of_costomers,figsize=(30, 200))\n",
    "\n",
    "# for j,i in enumerate(final.columns):\n",
    "#   (final[i]*1).plot.bar(ax=axes[j],color='b',title= i,yticks=(0,1) );\n",
    "#   axes[j].title.set_size(20);\n",
    "  \n",
    "\n"
   ]
  },
  {
   "cell_type": "markdown",
   "metadata": {
    "colab_type": "text",
    "id": "ZlBbYeCoYyrY"
   },
   "source": [
    "# The drawing takes some time so be patient  👌🎈 "
   ]
  },
  {
   "cell_type": "code",
   "execution_count": null,
   "metadata": {
    "colab": {},
    "colab_type": "code",
    "id": "wcBHbLGGggdE"
   },
   "outputs": [],
   "source": []
  },
  {
   "cell_type": "code",
   "execution_count": 24,
   "metadata": {
    "colab": {
     "base_uri": "https://localhost:8080/",
     "height": 1696
    },
    "colab_type": "code",
    "id": "TLqTtSplhOKr",
    "outputId": "15fedc20-fcf9-4530-a47a-794e709f4ceb"
   },
   "outputs": [
    {
     "data": {
      "text/plain": [
       "<matplotlib.axes._subplots.AxesSubplot at 0x1a1bcbb240>"
      ]
     },
     "execution_count": 24,
     "metadata": {},
     "output_type": "execute_result"
    },
    {
     "data": {
      "image/png": "[encoded data removed]",
      "text/plain": [
       "<Figure size 2160x2160 with 1 Axes>"
      ]
     },
     "metadata": {
      "needs_background": "light"
     },
     "output_type": "display_data"
    }
   ],
   "source": [
    "fig, ax = plt.subplots(figsize=(30, 30))\n",
    "sns.heatmap(ax=ax, data=final[2:118], linecolor='lightgrey', linewidths=.01,cbar=False,annot=True,square =True) \n",
    "\n",
    "    "
   ]
  },
  {
   "cell_type": "code",
   "execution_count": 25,
   "metadata": {
    "colab": {
     "base_uri": "https://localhost:8080/",
     "height": 282
    },
    "colab_type": "code",
    "id": "cz1PXCP9GVEc",
    "outputId": "b5c4d778-4617-4131-dc8a-87228f1eb3e1"
   },
   "outputs": [
    {
     "data": {
      "text/plain": [
       "<matplotlib.axes._subplots.AxesSubplot at 0x1a1be68be0>"
      ]
     },
     "execution_count": 25,
     "metadata": {},
     "output_type": "execute_result"
    },
    {
     "data": {
      "image/png": "[encoded data removed]",
      "text/plain": [
       "<Figure size 2160x2160 with 1 Axes>"
      ]
     },
     "metadata": {
      "needs_background": "light"
     },
     "output_type": "display_data"
    }
   ],
   "source": [
    "#final.loc[2:100]\n",
    "fig, ax = plt.subplots(figsize=(30, 30))\n",
    "sns.heatmap(ax=ax, data=final[2:120].T, linecolor='lightgrey', linewidths=.01,cbar=False,annot=True,square =True) "
   ]
  },
  {
   "cell_type": "code",
   "execution_count": null,
   "metadata": {},
   "outputs": [],
   "source": []
  }
 ],
 "metadata": {
  "colab": {
   "collapsed_sections": [],
   "name": "mysql-one-customer.ipynb",
   "provenance": [],
   "version": "0.3.2"
  },
  "kernelspec": {
   "display_name": "Python 3",
   "language": "python",
   "name": "python3"
  },
  "language_info": {
   "codemirror_mode": {
    "name": "ipython",
    "version": 3
   },
   "file_extension": ".py",
   "mimetype": "text/x-python",
   "name": "python",
   "nbconvert_exporter": "python",
   "pygments_lexer": "ipython3",
   "version": "3.7.2"
  }
 },
 "nbformat": 4,
 "nbformat_minor": 4
}
