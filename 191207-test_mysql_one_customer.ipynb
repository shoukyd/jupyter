{
 "cells": [
  {
   "cell_type": "code",
   "execution_count": 12,
   "metadata": {
    "colab": {
     "base_uri": "https://localhost:8080/",
     "height": 102
    },
    "colab_type": "code",
    "id": "dpVLjwWnvpvF",
    "outputId": "26f4dc17-e222-44d6-fb7b-f57ee5046490"
   },
   "outputs": [],
   "source": [
    "import sys\n",
    "sys.executable\n",
    "# sys.path\n",
    "import os\n",
    "import numpy as np # linear algebra\n",
    "import pandas as pd # data processing, CSV file I/O (e.g. pd.read_csv)\n",
    "import matplotlib.pyplot as plt\n",
    "import seaborn as sns\n",
    "color = sns.color_palette()\n",
    "# !pip install pymysql\n",
    "import pymysql\n",
    "import plotly\n",
    "from scipy import stats"
   ]
  },
  {
   "cell_type": "code",
   "execution_count": 13,
   "metadata": {
    "colab": {},
    "colab_type": "code",
    "id": "pM7zU3To_kyH"
   },
   "outputs": [],
   "source": [
    "conn = pymysql.connect(\n",
    "    host=\"insight.cxqzkfwl6f4a.us-east-1.rds.amazonaws.com\",\n",
    "    port=int(3306),\n",
    "    user=\"shoukydanindenic\",\n",
    "    passwd=\"54nuq5mi\",\n",
    "    db=\"insight\",\n",
    "    charset='utf8mb4')\n",
    "\n",
    "sql = \"\"\"\n",
    "SELECT \t\n",
    "\tDate_Format(a.Create_DateTime,'%Y-%m-%d') as 'Date',\n",
    "\tcount(*) as 'Count'\n",
    "FROM alert a\n",
    "WHERE a.Create_DateTime >= DATE_SUB(CURDATE(), INTERVAL 119 DAY)\n",
    "\tAND a.Rule_Name is not NULL\n",
    "\tAND a.Instance_UID in ('293a66ba-6ee1-4451-81d4-50bb6e2137e1')\n",
    "GROUP BY 1\n",
    "ORDER BY 1;\n",
    "\"\"\"\n",
    "\n",
    "# df = pd.read_sql_query(sql, parse_dates=['Date':'%Y-%m-%d'], conn)\n",
    "df = pd.read_sql_query(sql, conn, parse_dates=['Date'])"
   ]
  },
  {
   "cell_type": "code",
   "execution_count": 14,
   "metadata": {
    "colab": {
     "base_uri": "https://localhost:8080/",
     "height": 442
    },
    "colab_type": "code",
    "id": "KxgkD5g5VhSZ",
    "outputId": "1808ba49-9ca7-46d0-9f37-37329af8fdf8"
   },
   "outputs": [
    {
     "name": "stdout",
     "output_type": "stream",
     "text": [
      "-- info --\n",
      "<class 'pandas.core.frame.DataFrame'>\n",
      "RangeIndex: 90 entries, 0 to 89\n",
      "Data columns (total 2 columns):\n",
      "Date     90 non-null datetime64[ns]\n",
      "Count    90 non-null int64\n",
      "dtypes: datetime64[ns](1), int64(1)\n",
      "memory usage: 1.5 KB\n",
      "\n",
      "-- desc --\n",
      "                       Date      Count\n",
      "count                    90  90.000000\n",
      "unique                   90        NaN\n",
      "top     2019-10-03 00:00:00        NaN\n",
      "freq                      1        NaN\n",
      "first   2019-08-20 00:00:00        NaN\n",
      "last    2019-12-17 00:00:00        NaN\n",
      "mean                    NaN   4.266667\n",
      "std                     NaN   5.170791\n",
      "min                     NaN   1.000000\n",
      "25%                     NaN   1.000000\n",
      "50%                     NaN   3.000000\n",
      "75%                     NaN   5.000000\n",
      "max                     NaN  32.000000\n",
      "-- ---- --\n"
     ]
    }
   ],
   "source": [
    "print (\"-- info --\")\n",
    "df.info()\n",
    "print (\"\\n-- desc --\")\n",
    "desc = df.describe(include='all')\n",
    "print(desc)\n",
    "print (\"-- ---- --\")"
   ]
  },
  {
   "cell_type": "code",
   "execution_count": 15,
   "metadata": {
    "colab": {
     "base_uri": "https://localhost:8080/",
     "height": 714
    },
    "colab_type": "code",
    "id": "WrGMWmgxwGIT",
    "outputId": "a07d7458-5b53-4d1a-f173-ccc486006b1f",
    "scrolled": true
   },
   "outputs": [
    {
     "name": "stdout",
     "output_type": "stream",
     "text": [
      ">----\n",
      "90\n",
      ">>---\n",
      "            Count\n",
      "Date             \n",
      "2019-12-05      1\n",
      "2019-12-08      4\n",
      "2019-12-09      2\n",
      "2019-12-10      6\n",
      "2019-12-12      2\n",
      "2019-12-13      1\n",
      "2019-12-14      4\n",
      "2019-12-15     10\n",
      "2019-12-16      3\n",
      "2019-12-17      2\n",
      ">>>--\n",
      "DatetimeIndex(['2019-08-20', '2019-08-21', '2019-08-22', '2019-08-25',\n",
      "               '2019-08-26', '2019-08-28', '2019-08-29', '2019-08-30',\n",
      "               '2019-09-03', '2019-09-04', '2019-09-05', '2019-09-07',\n",
      "               '2019-09-08', '2019-09-09', '2019-09-10', '2019-09-12',\n",
      "               '2019-09-13', '2019-09-15', '2019-09-16', '2019-09-18',\n",
      "               '2019-09-19', '2019-09-21', '2019-09-22', '2019-09-23',\n",
      "               '2019-09-25', '2019-09-26', '2019-09-27', '2019-09-28',\n",
      "               '2019-09-29', '2019-09-30', '2019-10-01', '2019-10-02',\n",
      "               '2019-10-03', '2019-10-07', '2019-10-08', '2019-10-09',\n",
      "               '2019-10-10', '2019-10-11', '2019-10-12', '2019-10-13',\n",
      "               '2019-10-14', '2019-10-15', '2019-10-17', '2019-10-18',\n",
      "               '2019-10-20', '2019-10-21', '2019-10-22', '2019-10-23',\n",
      "               '2019-10-24', '2019-10-26', '2019-10-27', '2019-10-28',\n",
      "               '2019-10-29', '2019-10-30', '2019-10-31', '2019-11-01',\n",
      "               '2019-11-02', '2019-11-03', '2019-11-04', '2019-11-05',\n",
      "               '2019-11-06', '2019-11-08', '2019-11-09', '2019-11-10',\n",
      "               '2019-11-14', '2019-11-15', '2019-11-16', '2019-11-17',\n",
      "               '2019-11-18', '2019-11-19', '2019-11-20', '2019-11-21',\n",
      "               '2019-11-24', '2019-11-25', '2019-11-26', '2019-11-29',\n",
      "               '2019-11-30', '2019-12-01', '2019-12-02', '2019-12-03',\n",
      "               '2019-12-05', '2019-12-08', '2019-12-09', '2019-12-10',\n",
      "               '2019-12-12', '2019-12-13', '2019-12-14', '2019-12-15',\n",
      "               '2019-12-16', '2019-12-17'],\n",
      "              dtype='datetime64[ns]', name='Date', freq=None)\n",
      ">>>>-\n"
     ]
    }
   ],
   "source": [
    "df.set_index('Date',inplace=True)\n",
    "print (\">----\")\n",
    "print(len(df))\n",
    "print (\">>---\")\n",
    "print(df.tail(10))\n",
    "print (\">>>--\")\n",
    "print(df.index)\n",
    "print (\">>>>-\")\n"
   ]
  },
  {
   "cell_type": "code",
   "execution_count": 16,
   "metadata": {
    "colab": {
     "base_uri": "https://localhost:8080/",
     "height": 463
    },
    "colab_type": "code",
    "id": "5R4gEhnF7TNk",
    "outputId": "67bfca68-7703-4609-cdab-7c08b77fa17b"
   },
   "outputs": [
    {
     "data": {
      "text/plain": [
       "<matplotlib.axes._subplots.AxesSubplot at 0x1227613c8>"
      ]
     },
     "execution_count": 16,
     "metadata": {},
     "output_type": "execute_result"
    },
    {
     "data": {
      "text/plain": [
       "<Figure size 432x288 with 0 Axes>"
      ]
     },
     "metadata": {},
     "output_type": "display_data"
    },
    {
     "data": {
      "image/png": "[encoded data removed]",
      "text/plain": [
       "<Figure size 1440x360 with 1 Axes>"
      ]
     },
     "metadata": {
      "needs_background": "light"
     },
     "output_type": "display_data"
    }
   ],
   "source": [
    "plt.figure()\n",
    "df.plot(kind='bar',figsize=(20,5))"
   ]
  },
  {
   "cell_type": "code",
   "execution_count": 19,
   "metadata": {
    "colab": {
     "base_uri": "https://localhost:8080/",
     "height": 544
    },
    "colab_type": "code",
    "id": "ZEZi7bUzXlx1",
    "outputId": "b5c8a6ad-5a3c-4c9a-f4b1-12cfa7a1994b"
   },
   "outputs": [
    {
     "data": {
      "text/html": [
       "<div>\n",
       "<style scoped>\n",
       "    .dataframe tbody tr th:only-of-type {\n",
       "        vertical-align: middle;\n",
       "    }\n",
       "\n",
       "    .dataframe tbody tr th {\n",
       "        vertical-align: top;\n",
       "    }\n",
       "\n",
       "    .dataframe thead th {\n",
       "        text-align: right;\n",
       "    }\n",
       "</style>\n",
       "<table border=\"1\" class=\"dataframe\">\n",
       "  <thead>\n",
       "    <tr style=\"text-align: right;\">\n",
       "      <th></th>\n",
       "      <th>Count</th>\n",
       "    </tr>\n",
       "  </thead>\n",
       "  <tbody>\n",
       "    <tr>\n",
       "      <th>2019-08-20</th>\n",
       "      <td>32</td>\n",
       "    </tr>\n",
       "    <tr>\n",
       "      <th>2019-08-21</th>\n",
       "      <td>1</td>\n",
       "    </tr>\n",
       "    <tr>\n",
       "      <th>2019-08-22</th>\n",
       "      <td>1</td>\n",
       "    </tr>\n",
       "    <tr>\n",
       "      <th>2019-08-23</th>\n",
       "      <td>0</td>\n",
       "    </tr>\n",
       "    <tr>\n",
       "      <th>2019-08-24</th>\n",
       "      <td>0</td>\n",
       "    </tr>\n",
       "    <tr>\n",
       "      <th>...</th>\n",
       "      <td>...</td>\n",
       "    </tr>\n",
       "    <tr>\n",
       "      <th>2019-12-13</th>\n",
       "      <td>1</td>\n",
       "    </tr>\n",
       "    <tr>\n",
       "      <th>2019-12-14</th>\n",
       "      <td>4</td>\n",
       "    </tr>\n",
       "    <tr>\n",
       "      <th>2019-12-15</th>\n",
       "      <td>10</td>\n",
       "    </tr>\n",
       "    <tr>\n",
       "      <th>2019-12-16</th>\n",
       "      <td>3</td>\n",
       "    </tr>\n",
       "    <tr>\n",
       "      <th>2019-12-17</th>\n",
       "      <td>2</td>\n",
       "    </tr>\n",
       "  </tbody>\n",
       "</table>\n",
       "<p>120 rows × 1 columns</p>\n",
       "</div>"
      ],
      "text/plain": [
       "            Count\n",
       "2019-08-20     32\n",
       "2019-08-21      1\n",
       "2019-08-22      1\n",
       "2019-08-23      0\n",
       "2019-08-24      0\n",
       "...           ...\n",
       "2019-12-13      1\n",
       "2019-12-14      4\n",
       "2019-12-15     10\n",
       "2019-12-16      3\n",
       "2019-12-17      2\n",
       "\n",
       "[120 rows x 1 columns]"
      ]
     },
     "execution_count": 19,
     "metadata": {},
     "output_type": "execute_result"
    }
   ],
   "source": [
    "dt = pd.date_range(df.index[0],df.index[-1])\n",
    "idx = pd.DatetimeIndex(dt)\n",
    "df.reindex(idx,fill_value=0)\n",
    "# print(\"= 1 =\")\n",
    "# print(df)\n",
    "# print(df.asfreq('D',fill_value=0))\n"
   ]
  },
  {
   "cell_type": "code",
   "execution_count": 20,
   "metadata": {
    "colab": {
     "base_uri": "https://localhost:8080/",
     "height": 442
    },
    "colab_type": "code",
    "id": "jy7h5zfEkS2M",
    "outputId": "3deca54d-bad5-47f6-abb8-441c83fd38aa"
   },
   "outputs": [
    {
     "name": "stdout",
     "output_type": "stream",
     "text": [
      "= 2 =\n",
      "DatetimeIndex(['2019-08-20', '2019-08-21', '2019-08-22', '2019-08-23',\n",
      "               '2019-08-24', '2019-08-25', '2019-08-26', '2019-08-27',\n",
      "               '2019-08-28', '2019-08-29',\n",
      "               ...\n",
      "               '2019-12-08', '2019-12-09', '2019-12-10', '2019-12-11',\n",
      "               '2019-12-12', '2019-12-13', '2019-12-14', '2019-12-15',\n",
      "               '2019-12-16', '2019-12-17'],\n",
      "              dtype='datetime64[ns]', name='Date', length=120, freq='D')\n",
      "            Count\n",
      "Date             \n",
      "2019-08-20   32.0\n",
      "2019-08-21    1.0\n",
      "2019-08-22    1.0\n",
      "2019-08-23    0.0\n",
      "2019-08-24    0.0\n",
      "...           ...\n",
      "2019-12-13    1.0\n",
      "2019-12-14    4.0\n",
      "2019-12-15   10.0\n",
      "2019-12-16    3.0\n",
      "2019-12-17    2.0\n",
      "\n",
      "[120 rows x 1 columns]\n",
      "= 3 =\n"
     ]
    }
   ],
   "source": [
    "dfa = df.asfreq('D')\n",
    "dfa.fillna(0,inplace=True)\n",
    "print(\"= 2 =\")\n",
    "print(dfa.index)\n",
    "print(dfa)\n",
    "print(\"= 3 =\")\n"
   ]
  },
  {
   "cell_type": "code",
   "execution_count": 21,
   "metadata": {
    "colab": {
     "base_uri": "https://localhost:8080/",
     "height": 875
    },
    "colab_type": "code",
    "id": "DfO1-0ClkVkz",
    "outputId": "c55c5a39-9657-4a5d-e602-112276df8acf"
   },
   "outputs": [
    {
     "data": {
      "text/plain": [
       "<matplotlib.axes._subplots.AxesSubplot at 0x122ea0c18>"
      ]
     },
     "execution_count": 21,
     "metadata": {},
     "output_type": "execute_result"
    },
    {
     "data": {
      "text/plain": [
       "<Figure size 432x288 with 0 Axes>"
      ]
     },
     "metadata": {},
     "output_type": "display_data"
    },
    {
     "data": {
      "image/png": "[encoded data removed]",
      "text/plain": [
       "<Figure size 1440x360 with 1 Axes>"
      ]
     },
     "metadata": {
      "needs_background": "light"
     },
     "output_type": "display_data"
    },
    {
     "data": {
      "image/png": "[encoded data removed]",
      "text/plain": [
       "<Figure size 1440x360 with 1 Axes>"
      ]
     },
     "metadata": {
      "needs_background": "light"
     },
     "output_type": "display_data"
    }
   ],
   "source": [
    "plt.figure()\n",
    "df.plot(kind='bar',figsize=(20,5))\n",
    "dfa.plot(kind='bar',figsize=(20,5))"
   ]
  },
  {
   "cell_type": "markdown",
   "metadata": {
    "colab_type": "text",
    "id": "GBWiAMPCvpvV"
   },
   "source": [
    "# Test \n",
    "https://stackoverflow.com/questions/29091468/pandas-time-series-time-between-events"
   ]
  },
  {
   "cell_type": "markdown",
   "metadata": {
    "colab_type": "text",
    "id": "WWn2pjcTvpvW"
   },
   "source": [
    "date_range = pd.date_range('2010-01-01', '2010-01-06')\n",
    "\n",
    "df = pd.DataFrame([False, True, False, False, True, False], index=date_range, \n",
    "\n",
    "columns=['event'])\n",
    "\n",
    "event_dates = df.index[df['event']]\n",
    "\n",
    "df2 = pd.DataFrame(event_dates, index=event_dates, columns=['max_event_date'])\n",
    "\n",
    "df = df.join(df2)\n",
    "\n",
    "df['max_event_date'] = df['max_event_date'].cummax(axis=0, skipna=False)\n",
    "\n",
    "df['days_since_event'] = df.index - df['max_event_date']"
   ]
  },
  {
   "cell_type": "markdown",
   "metadata": {
    "colab_type": "text",
    "id": "JfgSQ5nl_m-2"
   },
   "source": [
    "# here we check running \"0\""
   ]
  },
  {
   "cell_type": "code",
   "execution_count": 23,
   "metadata": {
    "colab": {
     "base_uri": "https://localhost:8080/",
     "height": 0
    },
    "colab_type": "code",
    "id": "2X6yFicmS6B2",
    "outputId": "01205971-6679-4393-f871-dff50359cfd8"
   },
   "outputs": [
    {
     "name": "stdout",
     "output_type": "stream",
     "text": [
      "this is the list of consecutive 0\n",
      "[0, 0, 0, 1, 2, 0, 0, 1, 0, 0, 0, 1, 2, 3, 0, 0, 0, 1, 0, 0, 0, 0, 1, 0, 0, 1, 0, 0, 1, 0, 0, 1, 0, 0, 0, 1, 0, 0, 0, 0, 0, 0, 0, 0, 0, 1, 2, 3, 0, 0, 0, 0, 0, 0, 0, 0, 0, 1, 0, 0, 1, 0, 0, 0, 0, 0, 1, 0, 0, 0, 0, 0, 0, 0, 0, 0, 0, 0, 0, 1, 0, 0, 0, 1, 2, 3, 0, 0, 0, 0, 0, 0, 0, 0, 1, 2, 0, 0, 0, 1, 2, 0, 0, 0, 0, 0, 1, 0, 1, 2, 0, 0, 0, 1, 0, 0, 0, 0, 0, 0]\n"
     ]
    },
    {
     "data": {
      "text/html": [
       "<div>\n",
       "<style scoped>\n",
       "    .dataframe tbody tr th:only-of-type {\n",
       "        vertical-align: middle;\n",
       "    }\n",
       "\n",
       "    .dataframe tbody tr th {\n",
       "        vertical-align: top;\n",
       "    }\n",
       "\n",
       "    .dataframe thead th {\n",
       "        text-align: right;\n",
       "    }\n",
       "</style>\n",
       "<table border=\"1\" class=\"dataframe\">\n",
       "  <thead>\n",
       "    <tr style=\"text-align: right;\">\n",
       "      <th></th>\n",
       "      <th>Count</th>\n",
       "      <th>0s</th>\n",
       "    </tr>\n",
       "    <tr>\n",
       "      <th>Date</th>\n",
       "      <th></th>\n",
       "      <th></th>\n",
       "    </tr>\n",
       "  </thead>\n",
       "  <tbody>\n",
       "    <tr>\n",
       "      <th>2019-08-20</th>\n",
       "      <td>32.0</td>\n",
       "      <td>0</td>\n",
       "    </tr>\n",
       "    <tr>\n",
       "      <th>2019-08-21</th>\n",
       "      <td>1.0</td>\n",
       "      <td>0</td>\n",
       "    </tr>\n",
       "    <tr>\n",
       "      <th>2019-08-22</th>\n",
       "      <td>1.0</td>\n",
       "      <td>0</td>\n",
       "    </tr>\n",
       "    <tr>\n",
       "      <th>2019-08-23</th>\n",
       "      <td>0.0</td>\n",
       "      <td>1</td>\n",
       "    </tr>\n",
       "    <tr>\n",
       "      <th>2019-08-24</th>\n",
       "      <td>0.0</td>\n",
       "      <td>2</td>\n",
       "    </tr>\n",
       "  </tbody>\n",
       "</table>\n",
       "</div>"
      ],
      "text/plain": [
       "            Count  0s\n",
       "Date                 \n",
       "2019-08-20   32.0   0\n",
       "2019-08-21    1.0   0\n",
       "2019-08-22    1.0   0\n",
       "2019-08-23    0.0   1\n",
       "2019-08-24    0.0   2"
      ]
     },
     "execution_count": 23,
     "metadata": {},
     "output_type": "execute_result"
    }
   ],
   "source": [
    "  a=dfa\n",
    "  # print(a)\n",
    "  b=[0]*len(a)\n",
    "  for i in range(len(a)):\n",
    "      if a['Count'].iloc[i] == 0:\n",
    "          b[i] = b[i-1] + 1\n",
    "      else:\n",
    "          b[i] = 0\n",
    "  print ('this is the list of consecutive 0'.format(b) )\n",
    "  # b=pd.Series(b) \n",
    "  print(b)\n",
    "  dfa[\"0s\"]= pd.Series(b, index=dfa.index)\n",
    "\n",
    "dfa.head()\n"
   ]
  },
  {
   "cell_type": "markdown",
   "metadata": {
    "colab_type": "text",
    "id": "GV74cRdYAJgU"
   },
   "source": [
    "# Now we check the AVG and STD for 4 consequetive numbers"
   ]
  },
  {
   "cell_type": "code",
   "execution_count": 28,
   "metadata": {
    "colab": {
     "base_uri": "https://localhost:8080/",
     "height": 198
    },
    "colab_type": "code",
    "id": "P9QbBN1eAIUg",
    "outputId": "b5190e5d-5477-4d86-ab08-19adb978eeac"
   },
   "outputs": [],
   "source": [
    "dfa['avg_4'] = (dfa['0s'].rolling(4).mean())\n",
    "dfa['std_4'] = (dfa['0s'].rolling(4).std())"
   ]
  },
  {
   "cell_type": "code",
   "execution_count": 30,
   "metadata": {
    "colab": {},
    "colab_type": "code",
    "id": "m8DCFbgyCGUU"
   },
   "outputs": [
    {
     "data": {
      "text/html": [
       "<div>\n",
       "<style scoped>\n",
       "    .dataframe tbody tr th:only-of-type {\n",
       "        vertical-align: middle;\n",
       "    }\n",
       "\n",
       "    .dataframe tbody tr th {\n",
       "        vertical-align: top;\n",
       "    }\n",
       "\n",
       "    .dataframe thead th {\n",
       "        text-align: right;\n",
       "    }\n",
       "</style>\n",
       "<table border=\"1\" class=\"dataframe\">\n",
       "  <thead>\n",
       "    <tr style=\"text-align: right;\">\n",
       "      <th></th>\n",
       "      <th>Count</th>\n",
       "      <th>0s</th>\n",
       "      <th>avg_4</th>\n",
       "      <th>std_4</th>\n",
       "    </tr>\n",
       "    <tr>\n",
       "      <th>Date</th>\n",
       "      <th></th>\n",
       "      <th></th>\n",
       "      <th></th>\n",
       "      <th></th>\n",
       "    </tr>\n",
       "  </thead>\n",
       "  <tbody>\n",
       "    <tr>\n",
       "      <th>2019-08-20</th>\n",
       "      <td>32.0</td>\n",
       "      <td>0</td>\n",
       "      <td>NaN</td>\n",
       "      <td>NaN</td>\n",
       "    </tr>\n",
       "    <tr>\n",
       "      <th>2019-08-21</th>\n",
       "      <td>1.0</td>\n",
       "      <td>0</td>\n",
       "      <td>NaN</td>\n",
       "      <td>NaN</td>\n",
       "    </tr>\n",
       "    <tr>\n",
       "      <th>2019-08-22</th>\n",
       "      <td>1.0</td>\n",
       "      <td>0</td>\n",
       "      <td>NaN</td>\n",
       "      <td>NaN</td>\n",
       "    </tr>\n",
       "    <tr>\n",
       "      <th>2019-08-23</th>\n",
       "      <td>0.0</td>\n",
       "      <td>1</td>\n",
       "      <td>0.25</td>\n",
       "      <td>0.500000</td>\n",
       "    </tr>\n",
       "    <tr>\n",
       "      <th>2019-08-24</th>\n",
       "      <td>0.0</td>\n",
       "      <td>2</td>\n",
       "      <td>0.75</td>\n",
       "      <td>0.957427</td>\n",
       "    </tr>\n",
       "  </tbody>\n",
       "</table>\n",
       "</div>"
      ],
      "text/plain": [
       "            Count  0s  avg_4     std_4\n",
       "Date                                  \n",
       "2019-08-20   32.0   0    NaN       NaN\n",
       "2019-08-21    1.0   0    NaN       NaN\n",
       "2019-08-22    1.0   0    NaN       NaN\n",
       "2019-08-23    0.0   1   0.25  0.500000\n",
       "2019-08-24    0.0   2   0.75  0.957427"
      ]
     },
     "execution_count": 30,
     "metadata": {},
     "output_type": "execute_result"
    }
   ],
   "source": [
    "dfa.head()"
   ]
  },
  {
   "cell_type": "code",
   "execution_count": 34,
   "metadata": {
    "colab": {},
    "colab_type": "code",
    "id": "OS7m8YR3DSDS"
   },
   "outputs": [
    {
     "name": "stdout",
     "output_type": "stream",
     "text": [
      "Max 0s {} 3\n"
     ]
    },
    {
     "data": {
      "text/plain": [
       "<matplotlib.axes._subplots.AxesSubplot at 0x123aa1438>"
      ]
     },
     "execution_count": 34,
     "metadata": {},
     "output_type": "execute_result"
    },
    {
     "data": {
      "image/png": "[encoded data removed]",
      "text/plain": [
       "<Figure size 1440x360 with 1 Axes>"
      ]
     },
     "metadata": {
      "needs_background": "light"
     },
     "output_type": "display_data"
    }
   ],
   "source": [
    "print(\"Max 0s {}\",dfa[\"0s\"].max())\n",
    "dfa.plot(kind='bar',figsize=(20,5))\n",
    "\n",
    "\n"
   ]
  },
  {
   "cell_type": "code",
   "execution_count": null,
   "metadata": {
    "colab": {},
    "colab_type": "code",
    "id": "qqgLajnnCz4X"
   },
   "outputs": [],
   "source": [
    "# df_sd.info()\n",
    "for c in col_list:\n",
    "    df_sd[c+'res'] = (df_sd[c+\"-0s\"]>2) | (df_sd[c]<(df_sd[c+'-avg_4']-df_sd[c+'-std_4']))\n"
   ]
  },
  {
   "cell_type": "code",
   "execution_count": null,
   "metadata": {
    "colab": {},
    "colab_type": "code",
    "id": "r6iSFTOmC1AS"
   },
   "outputs": [],
   "source": [
    "for c in col_list:\n",
    "    print (\"for the \", c , \"check the following\",df_sd[c+'res'][df_sd[c+'res']==True])"
   ]
  },
  {
   "cell_type": "code",
   "execution_count": null,
   "metadata": {
    "colab": {},
    "colab_type": "code",
    "id": "QFlVf0-iDBjC"
   },
   "outputs": [],
   "source": [
    "for c in col_list:\n",
    "    print(df_sd[c+'res'][df_sd[c+'res']==True])"
   ]
  },
  {
   "cell_type": "code",
   "execution_count": null,
   "metadata": {
    "colab": {},
    "colab_type": "code",
    "id": "WdiO4qt_Erhw"
   },
   "outputs": [],
   "source": [
    "col_list=df_sd.columns\n",
    "col_res=[c for c in col_list]\n",
    "\n",
    "col_res[-number_of_costomers:]"
   ]
  },
  {
   "cell_type": "code",
   "execution_count": null,
   "metadata": {
    "colab": {},
    "colab_type": "code",
    "id": "oDWh_-4tHNqL"
   },
   "outputs": [],
   "source": [
    "%matplotlib inline\n",
    "final=df_sd[col_res[-number_of_costomers:]]\n"
   ]
  },
  {
   "cell_type": "code",
   "execution_count": null,
   "metadata": {
    "colab": {},
    "colab_type": "code",
    "id": "3_XshLexMqlN"
   },
   "outputs": [],
   "source": [
    "# sns.set()\n",
    "\n",
    "# fig, axes = plt.subplots(nrows=number_of_costomers,figsize=(30, 200))\n",
    "\n",
    "# for j,i in enumerate(final.columns):\n",
    "#   (final[i]*1).plot.bar(ax=axes[j],color='b',title= i,yticks=(0,1) );\n",
    "#   axes[j].title.set_size(20);\n",
    "  \n",
    "\n"
   ]
  },
  {
   "cell_type": "markdown",
   "metadata": {
    "colab_type": "text",
    "id": "ZlBbYeCoYyrY"
   },
   "source": [
    "# The drawing takes some time so be patient  👌🎈 "
   ]
  },
  {
   "cell_type": "code",
   "execution_count": null,
   "metadata": {
    "colab": {},
    "colab_type": "code",
    "id": "wcBHbLGGggdE"
   },
   "outputs": [],
   "source": []
  },
  {
   "cell_type": "code",
   "execution_count": null,
   "metadata": {
    "colab": {},
    "colab_type": "code",
    "id": "TLqTtSplhOKr"
   },
   "outputs": [],
   "source": [
    "fig, ax = plt.subplots(figsize=(30, 30))\n",
    "sns.heatmap(ax=ax, data=final[2:118], linecolor='lightgrey', linewidths=.01,cbar=False,annot=True,square =True) \n",
    "\n",
    "    "
   ]
  },
  {
   "cell_type": "code",
   "execution_count": null,
   "metadata": {
    "colab": {},
    "colab_type": "code",
    "id": "cz1PXCP9GVEc"
   },
   "outputs": [],
   "source": [
    "#final.loc[2:100]\n",
    "fig, ax = plt.subplots(figsize=(30, 30))\n",
    "sns.heatmap(ax=ax, data=final[2:120].T, linecolor='lightgrey', linewidths=.01,cbar=False,annot=True,square =True) "
   ]
  },
  {
   "cell_type": "code",
   "execution_count": null,
   "metadata": {
    "colab": {},
    "colab_type": "code",
    "id": "uzqbwZVKvpwo"
   },
   "outputs": [],
   "source": []
  }
 ],
 "metadata": {
  "colab": {
   "collapsed_sections": [],
   "name": "test_mysql_one_customer.ipynb",
   "provenance": []
  },
  "kernelspec": {
   "display_name": "Python 3",
   "language": "python",
   "name": "python3"
  },
  "language_info": {
   "codemirror_mode": {
    "name": "ipython",
    "version": 3
   },
   "file_extension": ".py",
   "mimetype": "text/x-python",
   "name": "python",
   "nbconvert_exporter": "python",
   "pygments_lexer": "ipython3",
   "version": "3.7.3"
  }
 },
 "nbformat": 4,
 "nbformat_minor": 4
}
